{
  "nbformat": 4,
  "nbformat_minor": 0,
  "metadata": {
    "colab": {
      "provenance": [],
      "authorship_tag": "ABX9TyNf5HVlq8qGV5NICUrylM8v",
      "include_colab_link": true
    },
    "kernelspec": {
      "name": "python3",
      "display_name": "Python 3"
    },
    "language_info": {
      "name": "python"
    }
  },
  "cells": [
    {
      "cell_type": "markdown",
      "metadata": {
        "id": "view-in-github",
        "colab_type": "text"
      },
      "source": [
        "<a href=\"https://colab.research.google.com/github/min0j98/mobis_aistudy_2023/blob/master/DL_04_Mnist_classification_ANN.ipynb\" target=\"_parent\"><img src=\"https://colab.research.google.com/assets/colab-badge.svg\" alt=\"Open In Colab\"/></a>"
      ]
    },
    {
      "cell_type": "markdown",
      "source": [
        "## Libraries load"
      ],
      "metadata": {
        "id": "kwE-cosaXw2S"
      }
    },
    {
      "cell_type": "code",
      "execution_count": 1,
      "metadata": {
        "id": "OPmfI6MpNMRg"
      },
      "outputs": [],
      "source": [
        "from tensorflow.keras.datasets import mnist\n",
        "from tensorflow.keras.utils import to_categorical\n",
        "\n",
        "import matplotlib.pyplot as plt\n",
        "import sys"
      ]
    },
    {
      "cell_type": "markdown",
      "source": [
        "## Dataset load\n",
        "```\n",
        "\n"
      ],
      "metadata": {
        "id": "eMocKAsaX1Rs"
      }
    },
    {
      "cell_type": "code",
      "source": [
        "# MNIST 데이터셋을 불러와 학습셋과 테스트셋으로 저장합니다.\n",
        "(X_train, y_train), (X_test, y_test) = mnist.load_data()\n",
        "\n",
        "# 학습셋과 테스트셋이 각각 몇 개의 이미지로 되어 있는지 확인합니다.\n",
        "print(\"학습셋 이미지 수 : %d 개\" % (X_train.shape[0]))\n",
        "print(\"테스트셋 이미지 수 : %d 개\" % (X_test.shape[0]))"
      ],
      "metadata": {
        "colab": {
          "base_uri": "https://localhost:8080/"
        },
        "id": "DG-Il4mLNT3S",
        "outputId": "0ad246ef-0cd2-4f8d-aa3d-03abfdbb5a1b"
      },
      "execution_count": 2,
      "outputs": [
        {
          "output_type": "stream",
          "name": "stdout",
          "text": [
            "Downloading data from https://storage.googleapis.com/tensorflow/tf-keras-datasets/mnist.npz\n",
            "11490434/11490434 [==============================] - 0s 0us/step\n",
            "학습셋 이미지 수 : 60000 개\n",
            "테스트셋 이미지 수 : 10000 개\n"
          ]
        }
      ]
    },
    {
      "cell_type": "code",
      "source": [
        "# 첫 번째 이미지를 확인해 봅시다.\n",
        "plt.imshow(X_train[0], cmap='Greys')\n",
        "plt.show()"
      ],
      "metadata": {
        "colab": {
          "base_uri": "https://localhost:8080/",
          "height": 430
        },
        "id": "-ME_XxLSNWpH",
        "outputId": "769562fa-2520-437b-f009-c1f610881a60"
      },
      "execution_count": 3,
      "outputs": [
        {
          "output_type": "display_data",
          "data": {
            "text/plain": [
              "<Figure size 640x480 with 1 Axes>"
            ],
            "image/png": "[encoded data removed]"
          },
          "metadata": {}
        }
      ]
    },
    {
      "cell_type": "code",
      "source": [
        "# 이미지가 인식되는 원리를 알아봅시다.\n",
        "for x in X_train[0]:\n",
        "    for i in x:\n",
        "        sys.stdout.write(\"%-3s\" % i)\n",
        "    sys.stdout.write('\\n')"
      ],
      "metadata": {
        "colab": {
          "base_uri": "https://localhost:8080/"
        },
        "id": "fHK9JHpcNWuk",
        "outputId": "8dc070bc-5120-4cc8-e090-be562a171de1"
      },
      "execution_count": 4,
      "outputs": [
        {
          "output_type": "stream",
          "name": "stdout",
          "text": [
            "0  0  0  0  0  0  0  0  0  0  0  0  0  0  0  0  0  0  0  0  0  0  0  0  0  0  0  0  \n",
            "0  0  0  0  0  0  0  0  0  0  0  0  0  0  0  0  0  0  0  0  0  0  0  0  0  0  0  0  \n",
            "0  0  0  0  0  0  0  0  0  0  0  0  0  0  0  0  0  0  0  0  0  0  0  0  0  0  0  0  \n",
            "0  0  0  0  0  0  0  0  0  0  0  0  0  0  0  0  0  0  0  0  0  0  0  0  0  0  0  0  \n",
            "0  0  0  0  0  0  0  0  0  0  0  0  0  0  0  0  0  0  0  0  0  0  0  0  0  0  0  0  \n",
            "0  0  0  0  0  0  0  0  0  0  0  0  3  18 18 18 12613617526 1662552471270  0  0  0  \n",
            "0  0  0  0  0  0  0  0  30 36 94 15417025325325325325322517225324219564 0  0  0  0  \n",
            "0  0  0  0  0  0  0  49 23825325325325325325325325325193 82 82 56 39 0  0  0  0  0  \n",
            "0  0  0  0  0  0  0  18 2192532532532532531981822472410  0  0  0  0  0  0  0  0  0  \n",
            "0  0  0  0  0  0  0  0  80 15610725325320511 0  43 1540  0  0  0  0  0  0  0  0  0  \n",
            "0  0  0  0  0  0  0  0  0  14 1  15425390 0  0  0  0  0  0  0  0  0  0  0  0  0  0  \n",
            "0  0  0  0  0  0  0  0  0  0  0  1392531902  0  0  0  0  0  0  0  0  0  0  0  0  0  \n",
            "0  0  0  0  0  0  0  0  0  0  0  11 19025370 0  0  0  0  0  0  0  0  0  0  0  0  0  \n",
            "0  0  0  0  0  0  0  0  0  0  0  0  35 2412251601081  0  0  0  0  0  0  0  0  0  0  \n",
            "0  0  0  0  0  0  0  0  0  0  0  0  0  81 24025325311925 0  0  0  0  0  0  0  0  0  \n",
            "0  0  0  0  0  0  0  0  0  0  0  0  0  0  45 18625325315027 0  0  0  0  0  0  0  0  \n",
            "0  0  0  0  0  0  0  0  0  0  0  0  0  0  0  16 93 2522531870  0  0  0  0  0  0  0  \n",
            "0  0  0  0  0  0  0  0  0  0  0  0  0  0  0  0  0  24925324964 0  0  0  0  0  0  0  \n",
            "0  0  0  0  0  0  0  0  0  0  0  0  0  0  46 1301832532532072  0  0  0  0  0  0  0  \n",
            "0  0  0  0  0  0  0  0  0  0  0  0  39 1482292532532532501820  0  0  0  0  0  0  0  \n",
            "0  0  0  0  0  0  0  0  0  0  24 11422125325325325320178 0  0  0  0  0  0  0  0  0  \n",
            "0  0  0  0  0  0  0  0  23 66 21325325325325319881 2  0  0  0  0  0  0  0  0  0  0  \n",
            "0  0  0  0  0  0  18 17121925325325325319580 9  0  0  0  0  0  0  0  0  0  0  0  0  \n",
            "0  0  0  0  55 17222625325325325324413311 0  0  0  0  0  0  0  0  0  0  0  0  0  0  \n",
            "0  0  0  0  13625325325321213513216 0  0  0  0  0  0  0  0  0  0  0  0  0  0  0  0  \n",
            "0  0  0  0  0  0  0  0  0  0  0  0  0  0  0  0  0  0  0  0  0  0  0  0  0  0  0  0  \n",
            "0  0  0  0  0  0  0  0  0  0  0  0  0  0  0  0  0  0  0  0  0  0  0  0  0  0  0  0  \n",
            "0  0  0  0  0  0  0  0  0  0  0  0  0  0  0  0  0  0  0  0  0  0  0  0  0  0  0  0  \n"
          ]
        }
      ]
    },
    {
      "cell_type": "markdown",
      "source": [
        "## 데이터 전처리"
      ],
      "metadata": {
        "id": "IACWR9ltX-5V"
      }
    },
    {
      "cell_type": "code",
      "source": [
        "# 차원 변환 과정을 실습해 봅니다.\n",
        "X_train = X_train.reshape(X_train.shape[0], 784)\n",
        "X_train = X_train.astype('float64')\n",
        "X_train = X_train / 255  # 픽셀의 밝기는 0~255이므로 255로 나눔으로써 0~1사이의 값으로 normalize\n",
        "\n",
        "X_test = X_test.reshape(X_test.shape[0], 784).astype('float64') / 255 # 픽셀의 밝기는 0~255이므로 255로 나눔으로써 0~1사이의 값으로 normalize\n",
        "\n",
        "# 클래스 값을 확인해 봅니다.\n",
        "print(\"class : %d \" % (y_train[0]))\n",
        "\n",
        "# 바이너리화 과정을 실습해 봅니다.\n",
        "y_train = to_categorical(y_train, 10)\n",
        "y_test = to_categorical(y_test, 10)\n",
        "\n",
        "print(y_train[0])"
      ],
      "metadata": {
        "colab": {
          "base_uri": "https://localhost:8080/"
        },
        "id": "rL-FjxQXNa8p",
        "outputId": "50b1a586-f8be-4aba-af84-cd054cd2685a"
      },
      "execution_count": 5,
      "outputs": [
        {
          "output_type": "stream",
          "name": "stdout",
          "text": [
            "class : 5 \n",
            "[0. 0. 0. 0. 0. 1. 0. 0. 0. 0.]\n"
          ]
        }
      ]
    },
    {
      "cell_type": "markdown",
      "source": [
        "## 모델 구축"
      ],
      "metadata": {
        "id": "eSQ0ECKhdRRQ"
      }
    },
    {
      "cell_type": "code",
      "source": [
        "from tensorflow.keras.models import Sequential\n",
        "from tensorflow.keras.layers import Dense\n",
        "from tensorflow.keras.callbacks import ModelCheckpoint,EarlyStopping\n",
        "from tensorflow.keras.datasets import mnist\n",
        "from tensorflow.keras.utils import to_categorical\n",
        "\n",
        "import matplotlib.pyplot as plt\n",
        "import numpy as np\n",
        "import os\n",
        "\n",
        "# MNIST 데이터를 불러옵니다.\n",
        "(X_train, y_train), (X_test, y_test) = mnist.load_data()\n",
        "\n",
        "# 차원 변환 후, 테스트셋과 학습셋으로 나누어 줍니다.\n",
        "X_train = X_train.reshape(X_train.shape[0], 784).astype('float32') / 255\n",
        "X_test = X_test.reshape(X_test.shape[0], 784).astype('float32') / 255\n",
        "\n",
        "y_train = to_categorical(y_train, 10)\n",
        "y_test = to_categorical(y_test, 10)\n",
        "\n",
        "# 모델 구조를 설정합니다.\n",
        "model = Sequential()\n",
        "model.add(Dense(512, input_dim=784, activation='relu'))\n",
        "model.add(Dense(10, activation='softmax'))\n",
        "model.summary()"
      ],
      "metadata": {
        "colab": {
          "base_uri": "https://localhost:8080/"
        },
        "id": "7z35Tx6TNddA",
        "outputId": "701c108e-151e-4a57-ded9-6445fcb2076a"
      },
      "execution_count": 6,
      "outputs": [
        {
          "output_type": "stream",
          "name": "stdout",
          "text": [
            "Model: \"sequential\"\n",
            "_________________________________________________________________\n",
            " Layer (type)                Output Shape              Param #   \n",
            "=================================================================\n",
            " dense (Dense)               (None, 512)               401920    \n",
            "                                                                 \n",
            " dense_1 (Dense)             (None, 10)                5130      \n",
            "                                                                 \n",
            "=================================================================\n",
            "Total params: 407,050\n",
            "Trainable params: 407,050\n",
            "Non-trainable params: 0\n",
            "_________________________________________________________________\n"
          ]
        }
      ]
    },
    {
      "cell_type": "code",
      "source": [
        "from IPython.display import SVG\n",
        "from keras.utils.vis_utils import model_to_dot\n",
        "\n",
        "%matplotlib inline\n",
        "\n",
        "SVG(model_to_dot(model, show_shapes=True).create(prog='dot', format='svg'))"
      ],
      "metadata": {
        "colab": {
          "base_uri": "https://localhost:8080/",
          "height": 413
        },
        "id": "pkpvfyOocU8z",
        "outputId": "8a8b848f-1c65-4d48-b092-33ad138e0378"
      },
      "execution_count": 7,
      "outputs": [
        {
          "output_type": "execute_result",
          "data": {
            "text/plain": [
              "<IPython.core.display.SVG object>"
            ],
            "image/svg+xml": "<svg xmlns=\"http://www.w3.org/2000/svg\" xmlns:xlink=\"http://www.w3.org/1999/xlink\" width=\"316pt\" height=\"295pt\" viewBox=\"0.00 0.00 237.00 221.00\">\n<g id=\"graph0\" class=\"graph\" transform=\"scale(0.75 0.75) rotate(0) translate(4 217)\">\n<title>G</title>\n<polygon fill=\"white\" stroke=\"transparent\" points=\"-4,4 -4,-217 233,-217 233,4 -4,4\"/>\n<!-- 139946480709024 -->\n<g id=\"node1\" class=\"node\">\n<title>139946480709024</title>\n<polygon fill=\"none\" stroke=\"black\" points=\"0,-166.5 0,-212.5 229,-212.5 229,-166.5 0,-166.5\"/>\n<text text-anchor=\"middle\" x=\"41\" y=\"-197.3\" font-family=\"Times,serif\" font-size=\"14.00\">dense_input</text>\n<polyline fill=\"none\" stroke=\"black\" points=\"0,-189.5 82,-189.5 \"/>\n<text text-anchor=\"middle\" x=\"41\" y=\"-174.3\" font-family=\"Times,serif\" font-size=\"14.00\">InputLayer</text>\n<polyline fill=\"none\" stroke=\"black\" points=\"82,-166.5 82,-212.5 \"/>\n<text text-anchor=\"middle\" x=\"109.5\" y=\"-197.3\" font-family=\"Times,serif\" font-size=\"14.00\">input:</text>\n<polyline fill=\"none\" stroke=\"black\" points=\"82,-189.5 137,-189.5 \"/>\n<text text-anchor=\"middle\" x=\"109.5\" y=\"-174.3\" font-family=\"Times,serif\" font-size=\"14.00\">output:</text>\n<polyline fill=\"none\" stroke=\"black\" points=\"137,-166.5 137,-212.5 \"/>\n<text text-anchor=\"middle\" x=\"183\" y=\"-197.3\" font-family=\"Times,serif\" font-size=\"14.00\">[(None, 784)]</text>\n<polyline fill=\"none\" stroke=\"black\" points=\"137,-189.5 229,-189.5 \"/>\n<text text-anchor=\"middle\" x=\"183\" y=\"-174.3\" font-family=\"Times,serif\" font-size=\"14.00\">[(None, 784)]</text>\n</g>\n<!-- 139946479892512 -->\n<g id=\"node2\" class=\"node\">\n<title>139946479892512</title>\n<polygon fill=\"none\" stroke=\"black\" points=\"20.5,-83.5 20.5,-129.5 208.5,-129.5 208.5,-83.5 20.5,-83.5\"/>\n<text text-anchor=\"middle\" x=\"45.5\" y=\"-114.3\" font-family=\"Times,serif\" font-size=\"14.00\">dense</text>\n<polyline fill=\"none\" stroke=\"black\" points=\"20.5,-106.5 70.5,-106.5 \"/>\n<text text-anchor=\"middle\" x=\"45.5\" y=\"-91.3\" font-family=\"Times,serif\" font-size=\"14.00\">Dense</text>\n<polyline fill=\"none\" stroke=\"black\" points=\"70.5,-83.5 70.5,-129.5 \"/>\n<text text-anchor=\"middle\" x=\"98\" y=\"-114.3\" font-family=\"Times,serif\" font-size=\"14.00\">input:</text>\n<polyline fill=\"none\" stroke=\"black\" points=\"70.5,-106.5 125.5,-106.5 \"/>\n<text text-anchor=\"middle\" x=\"98\" y=\"-91.3\" font-family=\"Times,serif\" font-size=\"14.00\">output:</text>\n<polyline fill=\"none\" stroke=\"black\" points=\"125.5,-83.5 125.5,-129.5 \"/>\n<text text-anchor=\"middle\" x=\"167\" y=\"-114.3\" font-family=\"Times,serif\" font-size=\"14.00\">(None, 784)</text>\n<polyline fill=\"none\" stroke=\"black\" points=\"125.5,-106.5 208.5,-106.5 \"/>\n<text text-anchor=\"middle\" x=\"167\" y=\"-91.3\" font-family=\"Times,serif\" font-size=\"14.00\">(None, 512)</text>\n</g>\n<!-- 139946480709024&#45;&gt;139946479892512 -->\n<g id=\"edge1\" class=\"edge\">\n<title>139946480709024-&gt;139946479892512</title>\n<path fill=\"none\" stroke=\"black\" d=\"M114.5,-166.37C114.5,-158.15 114.5,-148.66 114.5,-139.73\"/>\n<polygon fill=\"black\" stroke=\"black\" points=\"118,-139.61 114.5,-129.61 111,-139.61 118,-139.61\"/>\n</g>\n<!-- 139946445605328 -->\n<g id=\"node3\" class=\"node\">\n<title>139946445605328</title>\n<polygon fill=\"none\" stroke=\"black\" points=\"15,-0.5 15,-46.5 214,-46.5 214,-0.5 15,-0.5\"/>\n<text text-anchor=\"middle\" x=\"45.5\" y=\"-31.3\" font-family=\"Times,serif\" font-size=\"14.00\">dense_1</text>\n<polyline fill=\"none\" stroke=\"black\" points=\"15,-23.5 76,-23.5 \"/>\n<text text-anchor=\"middle\" x=\"45.5\" y=\"-8.3\" font-family=\"Times,serif\" font-size=\"14.00\">Dense</text>\n<polyline fill=\"none\" stroke=\"black\" points=\"76,-0.5 76,-46.5 \"/>\n<text text-anchor=\"middle\" x=\"103.5\" y=\"-31.3\" font-family=\"Times,serif\" font-size=\"14.00\">input:</text>\n<polyline fill=\"none\" stroke=\"black\" points=\"76,-23.5 131,-23.5 \"/>\n<text text-anchor=\"middle\" x=\"103.5\" y=\"-8.3\" font-family=\"Times,serif\" font-size=\"14.00\">output:</text>\n<polyline fill=\"none\" stroke=\"black\" points=\"131,-0.5 131,-46.5 \"/>\n<text text-anchor=\"middle\" x=\"172.5\" y=\"-31.3\" font-family=\"Times,serif\" font-size=\"14.00\">(None, 512)</text>\n<polyline fill=\"none\" stroke=\"black\" points=\"131,-23.5 214,-23.5 \"/>\n<text text-anchor=\"middle\" x=\"172.5\" y=\"-8.3\" font-family=\"Times,serif\" font-size=\"14.00\">(None, 10)</text>\n</g>\n<!-- 139946479892512&#45;&gt;139946445605328 -->\n<g id=\"edge2\" class=\"edge\">\n<title>139946479892512-&gt;139946445605328</title>\n<path fill=\"none\" stroke=\"black\" d=\"M114.5,-83.37C114.5,-75.15 114.5,-65.66 114.5,-56.73\"/>\n<polygon fill=\"black\" stroke=\"black\" points=\"118,-56.61 114.5,-46.61 111,-56.61 118,-56.61\"/>\n</g>\n</g>\n</svg>"
          },
          "metadata": {},
          "execution_count": 7
        }
      ]
    },
    {
      "cell_type": "code",
      "source": [
        "# 모델 실행 환경을 설정합니다.\n",
        "model.compile(loss='categorical_crossentropy', optimizer='adam', metrics=['accuracy'])\n",
        "\n",
        "# 모델 최적화를 위한 설정 구간입니다.\n",
        "modelpath=\"./MNIST_MLP.hdf5\"\n",
        "checkpointer = ModelCheckpoint(filepath=modelpath, monitor='val_loss', verbose=1, save_best_only=True)\n",
        "early_stopping_callback = EarlyStopping(monitor='val_loss', patience=10)\n",
        "\n",
        "# 모델을 실행합니다.\n",
        "history = model.fit(X_train, y_train, validation_split=0.25, epochs=30, batch_size=200, verbose=0, callbacks=[early_stopping_callback,checkpointer])\n",
        "\n",
        "# 테스트 정확도를 출력합니다.\n",
        "print(\"\\n Test Accuracy: %.4f\" % (model.evaluate(X_test, y_test)[1]))"
      ],
      "metadata": {
        "colab": {
          "base_uri": "https://localhost:8080/"
        },
        "id": "lZ9KaawhNfiS",
        "outputId": "31f43230-b05b-4cb7-b3e4-3dad050a710f"
      },
      "execution_count": 8,
      "outputs": [
        {
          "output_type": "stream",
          "name": "stdout",
          "text": [
            "\n",
            "Epoch 1: val_loss improved from inf to 0.18622, saving model to ./MNIST_MLP.hdf5\n",
            "\n",
            "Epoch 2: val_loss improved from 0.18622 to 0.13915, saving model to ./MNIST_MLP.hdf5\n",
            "\n",
            "Epoch 3: val_loss improved from 0.13915 to 0.11781, saving model to ./MNIST_MLP.hdf5\n",
            "\n",
            "Epoch 4: val_loss improved from 0.11781 to 0.10390, saving model to ./MNIST_MLP.hdf5\n",
            "\n",
            "Epoch 5: val_loss improved from 0.10390 to 0.09312, saving model to ./MNIST_MLP.hdf5\n",
            "\n",
            "Epoch 6: val_loss improved from 0.09312 to 0.08796, saving model to ./MNIST_MLP.hdf5\n",
            "\n",
            "Epoch 7: val_loss improved from 0.08796 to 0.08594, saving model to ./MNIST_MLP.hdf5\n",
            "\n",
            "Epoch 8: val_loss improved from 0.08594 to 0.08151, saving model to ./MNIST_MLP.hdf5\n",
            "\n",
            "Epoch 9: val_loss did not improve from 0.08151\n",
            "\n",
            "Epoch 10: val_loss improved from 0.08151 to 0.08018, saving model to ./MNIST_MLP.hdf5\n",
            "\n",
            "Epoch 11: val_loss did not improve from 0.08018\n",
            "\n",
            "Epoch 12: val_loss did not improve from 0.08018\n",
            "\n",
            "Epoch 13: val_loss did not improve from 0.08018\n",
            "\n",
            "Epoch 14: val_loss did not improve from 0.08018\n",
            "\n",
            "Epoch 15: val_loss did not improve from 0.08018\n",
            "\n",
            "Epoch 16: val_loss did not improve from 0.08018\n",
            "\n",
            "Epoch 17: val_loss did not improve from 0.08018\n",
            "\n",
            "Epoch 18: val_loss did not improve from 0.08018\n",
            "\n",
            "Epoch 19: val_loss did not improve from 0.08018\n",
            "\n",
            "Epoch 20: val_loss did not improve from 0.08018\n",
            "313/313 [==============================] - 1s 3ms/step - loss: 0.0722 - accuracy: 0.9796\n",
            "\n",
            " Test Accuracy: 0.9796\n"
          ]
        }
      ]
    },
    {
      "cell_type": "markdown",
      "source": [
        "## 학습 그래프 분석"
      ],
      "metadata": {
        "id": "X9Kquj9kdkod"
      }
    },
    {
      "cell_type": "code",
      "source": [
        "\n",
        "# 검증셋과 학습셋의 오차를 저장합니다.\n",
        "y_vloss = history.history['val_loss']\n",
        "y_loss = history.history['loss']\n",
        "\n",
        "# 그래프로 표현해 봅니다.\n",
        "x_len = np.arange(len(y_loss))\n",
        "plt.plot(x_len, y_vloss, marker='.', c=\"red\", label='Testset_loss')\n",
        "plt.plot(x_len, y_loss, marker='.', c=\"blue\", label='Trainset_loss')\n",
        "\n",
        "# 그래프에 그리드를 주고 레이블을 표시해 보겠습니다.\n",
        "plt.legend(loc='upper right')\n",
        "plt.grid()\n",
        "plt.xlabel('epoch')\n",
        "plt.ylabel('loss')\n",
        "plt.show()"
      ],
      "metadata": {
        "colab": {
          "base_uri": "https://localhost:8080/",
          "height": 449
        },
        "id": "iiLQZKRANhSM",
        "outputId": "b534d76c-9204-495f-bd05-2f86ad6238e7"
      },
      "execution_count": 9,
      "outputs": [
        {
          "output_type": "display_data",
          "data": {
            "text/plain": [
              "<Figure size 640x480 with 1 Axes>"
            ],
            "image/png": "[encoded data removed]"
          },
          "metadata": {}
        }
      ]
    },
    {
      "cell_type": "markdown",
      "source": [
        "## 예측성능 검토"
      ],
      "metadata": {
        "id": "_RDQW92tdnQ7"
      }
    },
    {
      "cell_type": "code",
      "source": [
        "def y_inv_cat(y,y_d):\n",
        "    y_rev1 = np.argmax(y,axis=1)\n",
        "    y_rev = y_rev1 + y_d\n",
        "    return y_rev\n"
      ],
      "metadata": {
        "id": "2-hgw_vIdV9T"
      },
      "execution_count": 10,
      "outputs": []
    },
    {
      "cell_type": "code",
      "source": [
        "y_testpredsc = model.predict(X_test)"
      ],
      "metadata": {
        "colab": {
          "base_uri": "https://localhost:8080/"
        },
        "id": "b1gISCuaWo9H",
        "outputId": "fad8d3b2-4ac0-40ab-b1f0-8360ff162cf1"
      },
      "execution_count": 11,
      "outputs": [
        {
          "output_type": "stream",
          "name": "stdout",
          "text": [
            "313/313 [==============================] - 1s 2ms/step\n"
          ]
        }
      ]
    },
    {
      "cell_type": "code",
      "source": [
        "y_testpredsc"
      ],
      "metadata": {
        "id": "FLOf49TudeAo",
        "outputId": "60884420-fe3c-49db-ee5b-ae4a88a11531",
        "colab": {
          "base_uri": "https://localhost:8080/"
        }
      },
      "execution_count": 12,
      "outputs": [
        {
          "output_type": "execute_result",
          "data": {
            "text/plain": [
              "array([[5.4641069e-09, 4.6703606e-11, 3.5587668e-08, ..., 9.9998599e-01,\n",
              "        1.7900918e-08, 1.3205964e-07],\n",
              "       [2.3429158e-11, 3.1277739e-07, 9.9999958e-01, ..., 1.7659095e-19,\n",
              "        1.5523027e-10, 2.7382839e-15],\n",
              "       [1.1345650e-07, 9.9984527e-01, 5.7760684e-05, ..., 1.7064975e-05,\n",
              "        7.2269744e-05, 2.7343694e-08],\n",
              "       ...,\n",
              "       [8.3387184e-17, 5.0721429e-16, 1.8209692e-15, ..., 1.0550901e-09,\n",
              "        6.6315375e-10, 2.9824310e-08],\n",
              "       [2.6344032e-14, 3.2098266e-16, 1.9888346e-16, ..., 2.4149573e-14,\n",
              "        1.9087653e-07, 1.8732274e-14],\n",
              "       [4.7629457e-13, 4.9426405e-16, 5.2497335e-13, ..., 4.9419947e-18,\n",
              "        5.8905938e-16, 4.8558509e-16]], dtype=float32)"
            ]
          },
          "metadata": {},
          "execution_count": 12
        }
      ]
    },
    {
      "cell_type": "code",
      "source": [
        "y_testpred = y_inv_cat(y_testpredsc,0)\n",
        "y_test_ = y_inv_cat(y_test,0)"
      ],
      "metadata": {
        "id": "p4wdy_AXNmoV"
      },
      "execution_count": 13,
      "outputs": []
    },
    {
      "cell_type": "code",
      "source": [
        "y_testpred"
      ],
      "metadata": {
        "colab": {
          "base_uri": "https://localhost:8080/"
        },
        "id": "aDwDLwVuaWLQ",
        "outputId": "6796d663-f341-42c6-e41e-de38b3645f40"
      },
      "execution_count": 14,
      "outputs": [
        {
          "output_type": "execute_result",
          "data": {
            "text/plain": [
              "array([7, 2, 1, ..., 4, 5, 6])"
            ]
          },
          "metadata": {},
          "execution_count": 14
        }
      ]
    },
    {
      "cell_type": "code",
      "source": [
        "from sklearn.metrics import precision_score , recall_score , confusion_matrix,  f1_score\n",
        "import seaborn as sns"
      ],
      "metadata": {
        "id": "UiJhgoknaXQa"
      },
      "execution_count": 17,
      "outputs": []
    },
    {
      "cell_type": "code",
      "source": [
        "precision = precision_score(y_test_, y_testpred,average= \"macro\")\n",
        "recall = recall_score(y_test_, y_testpred,average= \"macro\")\n",
        "f1_score_ =f1_score(y_test_, y_testpred,average= \"macro\")\n",
        "print('정밀도: {0:.4f}, 재현율: {1:.4f}, f1_score: {1:.4f}'.format(precision, recall, f1_score_))\n",
        ""
      ],
      "metadata": {
        "colab": {
          "base_uri": "https://localhost:8080/"
        },
        "id": "zIcZI4yqaaKI",
        "outputId": "505de05b-3c8d-453a-8ab5-b18001847091"
      },
      "execution_count": 18,
      "outputs": [
        {
          "output_type": "stream",
          "name": "stdout",
          "text": [
            "정밀도: 0.9796, 재현율: 0.9794, f1_score: 0.9794\n"
          ]
        }
      ]
    },
    {
      "cell_type": "code",
      "source": [
        "import seaborn\n",
        "conf = confusion_matrix(y_test_, y_testpred)\n",
        "seaborn.set(font_scale=1.4) # for label size\n",
        "seaborn.heatmap(conf, annot=True, annot_kws={\"size\": 6}, cmap=\"Blues\") # font size\n",
        "\n",
        "plt.show()"
      ],
      "metadata": {
        "id": "92UoizBhaiuW",
        "outputId": "07f3cb51-fffb-4458-fe1c-5149378d0072",
        "colab": {
          "base_uri": "https://localhost:8080/",
          "height": 439
        }
      },
      "execution_count": 19,
      "outputs": [
        {
          "output_type": "display_data",
          "data": {
            "text/plain": [
              "<Figure size 640x480 with 2 Axes>"
            ],
            "image/png": "[encoded data removed]"
          },
          "metadata": {}
        }
      ]
    },
    {
      "cell_type": "code",
      "source": [
        "# 첫 번째 이미지를 확인해 봅시다.\n",
        "i=2\n",
        "plt.imshow(X_test[i].reshape(28,28,1), cmap='Greys')\n",
        "plt.show()"
      ],
      "metadata": {
        "id": "laj7U7MEh5LB",
        "outputId": "9d99995d-3b0a-4bdf-c889-b08bd2ca760f",
        "colab": {
          "base_uri": "https://localhost:8080/",
          "height": 441
        }
      },
      "execution_count": 25,
      "outputs": [
        {
          "output_type": "display_data",
          "data": {
            "text/plain": [
              "<Figure size 640x480 with 1 Axes>"
            ],
            "image/png": "[encoded data removed]"
          },
          "metadata": {}
        }
      ]
    },
    {
      "cell_type": "code",
      "source": [
        "print(\"첫번째 이미지의 예측 결과는 \", y_testpred[i])"
      ],
      "metadata": {
        "id": "K0aus9Nkh6WD",
        "outputId": "60114a7c-1354-4140-8e47-3429dd792cc3",
        "colab": {
          "base_uri": "https://localhost:8080/"
        }
      },
      "execution_count": 26,
      "outputs": [
        {
          "output_type": "stream",
          "name": "stdout",
          "text": [
            "첫번째 이미지의 예측 결과는  1\n"
          ]
        }
      ]
    },
    {
      "cell_type": "code",
      "source": [],
      "metadata": {
        "id": "YP3jSXS6ihdE"
      },
      "execution_count": null,
      "outputs": []
    }
  ]
}