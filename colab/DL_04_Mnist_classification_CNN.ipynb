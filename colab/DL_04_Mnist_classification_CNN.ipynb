{
  "cells": [
    {
      "cell_type": "markdown",
      "metadata": {
        "id": "SqupvrChHps6"
      },
      "source": [
        "## Libraries load"
      ]
    },
    {
      "cell_type": "code",
      "source": [
        "from tensorflow.keras.models import Sequential\n",
        "from tensorflow.keras.layers import Dense, Dropout, Flatten, Conv2D, MaxPooling2D\n",
        "from tensorflow.keras.callbacks import ModelCheckpoint,EarlyStopping\n",
        "from tensorflow.keras.datasets import mnist\n",
        "from tensorflow.keras.utils import to_categorical\n",
        "\n",
        "import matplotlib.pyplot as plt\n",
        "import numpy as np"
      ],
      "metadata": {
        "id": "WyyTLr8Je9Ge"
      },
      "execution_count": 2,
      "outputs": []
    },
    {
      "cell_type": "markdown",
      "source": [
        "## Dataset load"
      ],
      "metadata": {
        "id": "NcLBmHB7e-Pr"
      }
    },
    {
      "cell_type": "code",
      "source": [
        "# 데이터를 불러옵니다.\n",
        "(X_train, y_train), (X_test, y_test) = mnist.load_data()"
      ],
      "metadata": {
        "id": "MS4sh5-zfBwA"
      },
      "execution_count": 3,
      "outputs": []
    },
    {
      "cell_type": "markdown",
      "source": [
        "## 데이터 전처리"
      ],
      "metadata": {
        "id": "1T1VozodfE3S"
      }
    },
    {
      "cell_type": "code",
      "source": [
        "# 데이터를 불러옵니다.\n",
        "(X_train, y_train), (X_test, y_test) = mnist.load_data()\n",
        "X_train = X_train.reshape(X_train.shape[0], 28, 28, 1).astype('float32') / 255\n",
        "X_test = X_test.reshape(X_test.shape[0], 28, 28, 1).astype('float32') / 255\n",
        "y_train = to_categorical(y_train)\n",
        "y_test = to_categorical(y_test)"
      ],
      "metadata": {
        "id": "wzTOFO_bfDqu"
      },
      "execution_count": 4,
      "outputs": []
    },
    {
      "cell_type": "markdown",
      "source": [
        "## 모델 구축"
      ],
      "metadata": {
        "id": "EBNOKW6JfIIc"
      }
    },
    {
      "cell_type": "code",
      "source": [
        "# 컨볼루션 신경망의 설정\n",
        "model = Sequential()\n",
        "model.add(Conv2D(32, kernel_size=(3, 3), input_shape=(28, 28, 1), activation='relu'))\n",
        "model.add(Conv2D(64, (3, 3), activation='relu'))\n",
        "model.add(MaxPooling2D(pool_size=(2,2)))\n",
        "model.add(Dropout(0.25))\n",
        "model.add(Flatten())\n",
        "model.add(Dense(128,  activation='relu'))\n",
        "model.add(Dropout(0.5))\n",
        "model.add(Dense(10, activation='softmax'))\n",
        "\n"
      ],
      "metadata": {
        "id": "Z_sAzPkXfQIL"
      },
      "execution_count": null,
      "outputs": []
    },
    {
      "cell_type": "code",
      "source": [
        "from IPython.display import SVG\n",
        "from keras.utils.vis_utils import model_to_dot\n",
        "\n",
        "%matplotlib inline\n",
        "\n",
        "SVG(model_to_dot(model, show_shapes=True).create(prog='dot', format='svg'))"
      ],
      "metadata": {
        "id": "Ih3OCp8VfTkI"
      },
      "execution_count": null,
      "outputs": []
    },
    {
      "cell_type": "code",
      "source": [
        "# 모델의 실행 옵션을 설정합니다.\n",
        "model.compile(loss='categorical_crossentropy',\n",
        "              optimizer='adam',\n",
        "              metrics=['accuracy'])\n",
        "\n",
        "# 모델 최적화를 위한 설정 구간입니다.\n",
        "modelpath=\"./MNIST_CNN.hdf5\"\n",
        "checkpointer = ModelCheckpoint(filepath=modelpath, monitor='val_loss', verbose=1, save_best_only=True)\n",
        "early_stopping_callback = EarlyStopping(monitor='val_loss', patience=10)\n",
        "\n",
        "# 모델을 실행합니다.\n",
        "history = model.fit(X_train, y_train, validation_split=0.25, epochs=30, batch_size=200, verbose=0, callbacks=[early_stopping_callback,checkpointer])\n",
        "\n",
        "# 테스트 정확도를 출력합니다.\n",
        "print(\"\\n Test Accuracy: %.4f\" % (model.evaluate(X_test, y_test)[1]))"
      ],
      "metadata": {
        "id": "IbNW2j5-fSO5"
      },
      "execution_count": null,
      "outputs": []
    },
    {
      "cell_type": "markdown",
      "source": [
        "## 학습 그래프 분석"
      ],
      "metadata": {
        "id": "o-gFat1GfXGB"
      }
    },
    {
      "cell_type": "code",
      "execution_count": null,
      "metadata": {
        "id": "pCGvCLddHps7",
        "outputId": "af90dc68-94cb-4aed-b5dc-0aaeaf75941f"
      },
      "outputs": [
        {
          "data": {
            "image/png": "[encoded data removed]",
            "text/plain": [
              "<Figure size 432x288 with 1 Axes>"
            ]
          },
          "metadata": {
            "needs_background": "light"
          },
          "output_type": "display_data"
        }
      ],
      "source": [
        "# 검증셋과 학습셋의 오차를 저장합니다.\n",
        "y_vloss = history.history['val_loss']\n",
        "y_loss = history.history['loss']\n",
        "\n",
        "# 그래프로 표현해 봅니다.\n",
        "x_len = np.arange(len(y_loss))\n",
        "plt.plot(x_len, y_vloss, marker='.', c=\"red\", label='Testset_loss')\n",
        "plt.plot(x_len, y_loss, marker='.', c=\"blue\", label='Trainset_loss')\n",
        "\n",
        "# 그래프에 그리드를 주고 레이블을 표시하겠습니다.\n",
        "plt.legend(loc='upper right')\n",
        "plt.grid()\n",
        "plt.xlabel('epoch')\n",
        "plt.ylabel('loss')\n",
        "plt.show()"
      ]
    },
    {
      "cell_type": "markdown",
      "source": [
        "## 예측성능 검토"
      ],
      "metadata": {
        "id": "RBNQPVdzfZMq"
      }
    },
    {
      "cell_type": "code",
      "execution_count": 6,
      "metadata": {
        "id": "5Z-OGf7sHps8"
      },
      "outputs": [],
      "source": [
        "def y_inv_cat(y,y_d):\n",
        "    y_rev1 = np.argmax(y,axis=1)\n",
        "    y_rev = y_rev1 + y_d\n",
        "    return y_rev"
      ]
    },
    {
      "cell_type": "code",
      "source": [
        "y_testpredsc = model.predict(X_test)\n",
        "y_testpred = y_inv_cat(y_testpredsc,0)\n",
        "y_test_ = y_inv_cat(y_test,0)"
      ],
      "metadata": {
        "id": "5WRScxerfc23",
        "outputId": "14b9f29f-786a-412f-c60a-4ac46ec580c0",
        "colab": {
          "base_uri": "https://localhost:8080/"
        }
      },
      "execution_count": 8,
      "outputs": [
        {
          "output_type": "stream",
          "name": "stdout",
          "text": [
            "313/313 [==============================] - 9s 27ms/step\n"
          ]
        }
      ]
    },
    {
      "cell_type": "code",
      "source": [
        "y_testpred"
      ],
      "metadata": {
        "id": "cn8PR_-XgZ1-",
        "outputId": "3c1712d6-b4dc-4e32-c0f5-f405acfb3c61",
        "colab": {
          "base_uri": "https://localhost:8080/"
        }
      },
      "execution_count": 22,
      "outputs": [
        {
          "output_type": "execute_result",
          "data": {
            "text/plain": [
              "array([7, 2, 1, ..., 4, 5, 6])"
            ]
          },
          "metadata": {},
          "execution_count": 22
        }
      ]
    },
    {
      "cell_type": "code",
      "source": [
        "\n",
        "from sklearn.metrics import precision_score , recall_score , confusion_matrix, f1_score\n",
        "import seaborn as sns"
      ],
      "metadata": {
        "id": "OQpRGWyhfdHs"
      },
      "execution_count": 24,
      "outputs": []
    },
    {
      "cell_type": "code",
      "source": [
        "\n",
        "precision = precision_score(y_test_, y_testpred,average= \"macro\")\n",
        "recall = recall_score(y_test_, y_testpred,average= \"macro\")\n",
        "f1_score_ =f1_score(y_test_, y_testpred,average= \"macro\")\n",
        "print('정밀도: {0:.4f}, 재현율: {1:.4f}, f1_score: {1:.4f}'.format(precision, recall, f1_score_))\n",
        ""
      ],
      "metadata": {
        "id": "h3T3ZGzyfiWO",
        "outputId": "866e9440-d5f0-4c67-ede3-e379ea60c3af",
        "colab": {
          "base_uri": "https://localhost:8080/"
        }
      },
      "execution_count": 28,
      "outputs": [
        {
          "output_type": "stream",
          "name": "stdout",
          "text": [
            "정밀도: 0.9907, 재현율: 0.9904, f1_score: 0.9904\n"
          ]
        }
      ]
    },
    {
      "cell_type": "code",
      "source": [
        "import seaborn\n",
        "conf = confusion_matrix(y_test_, y_testpred)\n",
        "seaborn.set(font_scale=1.4) # for label size\n",
        "seaborn.heatmap(conf, annot=True, annot_kws={\"size\": 6}, cmap=\"Blues\") # font size\n",
        "\n",
        "plt.show()"
      ],
      "metadata": {
        "id": "6XgwDPVuhD8X",
        "outputId": "46780c15-d815-44e0-eaed-739f13dac901",
        "colab": {
          "base_uri": "https://localhost:8080/",
          "height": 439
        }
      },
      "execution_count": 36,
      "outputs": [
        {
          "output_type": "display_data",
          "data": {
            "text/plain": [
              "<Figure size 640x480 with 2 Axes>"
            ],
            "image/png": "[encoded data removed]"
          },
          "metadata": {}
        }
      ]
    },
    {
      "cell_type": "code",
      "source": [
        "# 첫 번째 이미지를 확인해 봅시다.\n",
        "plt.imshow(X_test[0], cmap='Greys')\n",
        "plt.show()"
      ],
      "metadata": {
        "id": "qxH2j8MFfj2T",
        "outputId": "0ebfe478-3837-4f2c-bb46-7a96d9445342",
        "colab": {
          "base_uri": "https://localhost:8080/",
          "height": 430
        }
      },
      "execution_count": 12,
      "outputs": [
        {
          "output_type": "display_data",
          "data": {
            "text/plain": [
              "<Figure size 640x480 with 1 Axes>"
            ],
            "image/png": "[encoded data removed]"
          },
          "metadata": {}
        }
      ]
    },
    {
      "cell_type": "code",
      "source": [
        "print(\"첫번째 이미지의 예측 결과는 \", y_testpred[0])"
      ],
      "metadata": {
        "id": "sV2DkLyofs7s",
        "outputId": "7c6d9877-bb89-4660-d35c-01a976376c5a",
        "colab": {
          "base_uri": "https://localhost:8080/"
        }
      },
      "execution_count": 29,
      "outputs": [
        {
          "output_type": "stream",
          "name": "stdout",
          "text": [
            "첫번째 이미지의 예측 결과는  7\n"
          ]
        }
      ]
    },
    {
      "cell_type": "code",
      "source": [],
      "metadata": {
        "id": "eIwQasGdgO9M"
      },
      "execution_count": null,
      "outputs": []
    }
  ],
  "metadata": {
    "colab": {
      "name": "ch16-colab.ipynb",
      "provenance": []
    },
    "kernelspec": {
      "display_name": "Python 3 (ipykernel)",
      "language": "python",
      "name": "python3"
    },
    "language_info": {
      "codemirror_mode": {
        "name": "ipython",
        "version": 3
      },
      "file_extension": ".py",
      "mimetype": "text/x-python",
      "name": "python",
      "nbconvert_exporter": "python",
      "pygments_lexer": "ipython3",
      "version": "3.9.7"
    }
  },
  "nbformat": 4,
  "nbformat_minor": 0
}