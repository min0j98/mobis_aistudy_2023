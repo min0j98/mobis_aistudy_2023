{
 "cells": [
  {
   "cell_type": "markdown",
   "id": "a883b95b",
   "metadata": {},
   "source": [
    "# Load libraries"
   ]
  },
  {
   "cell_type": "code",
   "execution_count": 1,
   "id": "c4a40bce",
   "metadata": {},
   "outputs": [],
   "source": [
    "## load libraries\n",
    "\n",
    "from pyDOE import *\n",
    "from scipy.stats.distributions import norm\n",
    "from sklearn.linear_model import LinearRegression\n",
    "from sklearn.preprocessing import MinMaxScaler\n",
    "from sklearn.model_selection import train_test_split\n",
    "from sklearn.metrics import mean_squared_error\n",
    "from sklearn.model_selection import KFold\n",
    "from tensorflow import keras\n",
    "from pickle import dump, load\n",
    "from matplotlib.gridspec import GridSpec\n",
    "import tensorflow as tf\n",
    "import pandas as pd\n",
    "import matplotlib.pyplot as plt"
   ]
  },
  {
   "cell_type": "markdown",
   "id": "962d20b1",
   "metadata": {},
   "source": [
    "# Load dataset"
   ]
  },
  {
   "cell_type": "code",
   "execution_count": 2,
   "id": "817f0204",
   "metadata": {},
   "outputs": [
    {
     "name": "stdout",
     "output_type": "stream",
     "text": [
      "data shape(x, y):  (100, 1) (100, 1)\n"
     ]
    }
   ],
   "source": [
    "## load all dataset\n",
    "xy_pd = pd.read_csv('dataset.csv')\n",
    "x_data = xy_pd.iloc[:,1:-1]\n",
    "y_data = np.array(xy_pd.iloc[:,-1]).reshape(-1,1)\n",
    "\n",
    "print(\"data shape(x, y): \", np.shape(x_data), np.shape(y_data))\n",
    "\n",
    "x_train = np.array(pd.read_csv('x_train.csv').iloc[:,1]).reshape(-1,1)\n",
    "y_train = np.array(pd.read_csv('y_train.csv').iloc[:,1]).reshape(-1,1)\n",
    "\n",
    "x_val = np.array(pd.read_csv('x_val.csv').iloc[:,1]).reshape(-1,1)\n",
    "y_val = np.array(pd.read_csv('y_val.csv').iloc[:,1]).reshape(-1,1)\n",
    "\n",
    "x_test = np.array(pd.read_csv('x_test.csv').iloc[:,1]).reshape(-1,1)\n",
    "y_test = np.array(pd.read_csv('y_test.csv').iloc[:,1]).reshape(-1,1)"
   ]
  },
  {
   "cell_type": "markdown",
   "id": "95b004b2",
   "metadata": {},
   "source": [
    "# Dataset preprocessing"
   ]
  },
  {
   "cell_type": "code",
   "execution_count": 3,
   "id": "2577f755",
   "metadata": {},
   "outputs": [],
   "source": [
    "## load scalers\n",
    "\n",
    "x_scaler = load(open('./x_minmax_scaler.pkl', 'rb'))\n",
    "y_scaler = load(open('./y_minmax_scaler.pkl', 'rb'))"
   ]
  },
  {
   "cell_type": "code",
   "execution_count": 4,
   "id": "4aba54b2",
   "metadata": {},
   "outputs": [
    {
     "name": "stderr",
     "output_type": "stream",
     "text": [
      "C:\\Users\\MOBIS\\Anaconda3\\lib\\site-packages\\sklearn\\base.py:450: UserWarning: X does not have valid feature names, but MinMaxScaler was fitted with feature names\n",
      "  warnings.warn(\n",
      "C:\\Users\\MOBIS\\Anaconda3\\lib\\site-packages\\sklearn\\base.py:450: UserWarning: X does not have valid feature names, but MinMaxScaler was fitted with feature names\n",
      "  warnings.warn(\n",
      "C:\\Users\\MOBIS\\Anaconda3\\lib\\site-packages\\sklearn\\base.py:450: UserWarning: X does not have valid feature names, but MinMaxScaler was fitted with feature names\n",
      "  warnings.warn(\n"
     ]
    }
   ],
   "source": [
    "## scale transformed\n",
    "\n",
    "x_trainsc = x_scaler.transform(np.array(x_train).reshape(-1,1))\n",
    "y_trainsc = y_scaler.transform(np.array(y_train).reshape(-1,1))\n",
    "\n",
    "x_valsc = x_scaler.transform(np.array(x_val).reshape(-1,1))\n",
    "y_valsc = y_scaler.transform(np.array(y_val).reshape(-1,1))\n",
    "\n",
    "x_testsc = x_scaler.transform(np.array(x_test).reshape(-1,1))\n",
    "y_testsc = y_scaler.transform(np.array(y_test).reshape(-1,1))"
   ]
  },
  {
   "cell_type": "markdown",
   "id": "a16e763c",
   "metadata": {},
   "source": [
    "\n",
    "\n",
    "#  KFOLD-based training"
   ]
  },
  {
   "cell_type": "code",
   "execution_count": 5,
   "id": "9a0166f5",
   "metadata": {},
   "outputs": [],
   "source": [
    "## 성능지표 출력\n",
    "\n",
    "def performance(y_true, y_pred):\n",
    "    _rmse = np.sqrt(mean_squared_error(y_true, y_pred))\n",
    "    _nrmse = (_rmse)/(np.max(y_train)-np.min(y_train))\n",
    "    \n",
    "    corr_matrix = np.corrcoef(y_true[:,0], y_pred[:,0])\n",
    "    corr_xy  = corr_matrix[0,1]\n",
    "    _r2 = corr_xy**2\n",
    "    return _rmse, _nrmse, _r2"
   ]
  },
  {
   "cell_type": "code",
   "execution_count": 6,
   "id": "6ade7b3c",
   "metadata": {},
   "outputs": [
    {
     "name": "stdout",
     "output_type": "stream",
     "text": [
      "Model: \"sequential\"\n",
      "_________________________________________________________________\n",
      " Layer (type)                Output Shape              Param #   \n",
      "=================================================================\n",
      " Hidden-1 (Dense)            (None, 16)                32        \n",
      "                                                                 \n",
      " Hidden-2 (Dense)            (None, 128)               2176      \n",
      "                                                                 \n",
      " dropout (Dropout)           (None, 128)               0         \n",
      "                                                                 \n",
      " Hidden-3 (Dense)            (None, 32)                4128      \n",
      "                                                                 \n",
      " Hidden-4 (Dense)            (None, 16)                528       \n",
      "                                                                 \n",
      " Hidden-5 (Dense)            (None, 128)               2176      \n",
      "                                                                 \n",
      " dropout_1 (Dropout)         (None, 128)               0         \n",
      "                                                                 \n",
      " Hidden-6 (Dense)            (None, 16)                2064      \n",
      "                                                                 \n",
      " dropout_2 (Dropout)         (None, 16)                0         \n",
      "                                                                 \n",
      " Hidden-7 (Dense)            (None, 64)                1088      \n",
      "                                                                 \n",
      " Hidden-8 (Dense)            (None, 16)                1040      \n",
      "                                                                 \n",
      " dense (Dense)               (None, 1)                 17        \n",
      "                                                                 \n",
      "=================================================================\n",
      "Total params: 13,249\n",
      "Trainable params: 13,249\n",
      "Non-trainable params: 0\n",
      "_________________________________________________________________\n"
     ]
    }
   ],
   "source": [
    "## FNN load \n",
    "from keras.models import load_model \n",
    "fnn_name = \"fnn_model.h5\"\n",
    "fnn_model = load_model(fnn_name, compile = False)\n",
    "fnn_model.summary()"
   ]
  },
  {
   "cell_type": "markdown",
   "id": "78355c24",
   "metadata": {},
   "source": [
    "\n",
    "## INN structure"
   ]
  },
  {
   "cell_type": "code",
   "execution_count": 7,
   "id": "da3553c1",
   "metadata": {},
   "outputs": [],
   "source": [
    "def inn_model(x, y, hidden_layers, d_o, l_rate):\n",
    "    \n",
    "    # set parameters\n",
    "    input_dim = np.shape(x)[1]        # input dimensions\n",
    "    output_dim = np.shape(y)[1]\n",
    "    hidden_layers = hidden_layers    # hidden layer dimensions\n",
    "    d_o = d_o                      # dropout확률\n",
    "    \n",
    "    # Initialize model\n",
    "    model = keras.Sequential(name = \"INN_network\")\n",
    "    # hidden layer-1\n",
    "    model.add(keras.layers.Dense(hidden_layers[0], activation='relu', input_shape=(input_dim, ), name='Hidden-1'))\n",
    "    # hidden layer-2\n",
    "    model.add(keras.layers.Dense(hidden_layers[1], activation='elu', name='Hidden-2'))\n",
    "    model.add(keras.layers.Dropout(d_o))\n",
    "    # hidden layer-3\n",
    "    model.add(keras.layers.Dense(hidden_layers[2], activation='elu', name='Hidden-3'))\n",
    "#     model.add(keras.layers.Dropout(d_o))\n",
    "    # hidden layer-4\n",
    "    model.add(keras.layers.Dense(hidden_layers[3], activation='relu', name='Hidden-4'))\n",
    "    # hidden layer-5\n",
    "    model.add(keras.layers.Dense(hidden_layers[4], activation='elu', name='Hidden-5'))\n",
    "    model.add(keras.layers.Dropout(d_o))\n",
    "\n",
    "    # hidden layer-6\n",
    "    model.add(keras.layers.Dense(hidden_layers[5], activation='elu', name='Hidden-6'))\n",
    "    model.add(keras.layers.Dropout(d_o))\n",
    "    # hidden layer-7\n",
    "    model.add(keras.layers.Dense(hidden_layers[6], activation='elu', name='Hidden-7'))\n",
    "    # hidden layer-8\n",
    "    model.add(keras.layers.Dense(hidden_layers[7], activation='elu', name='Hidden-8'))\n",
    "    # 출력층\n",
    "    model.add(keras.layers.Dense(output_dim))\n",
    "    \n",
    "    # compile model\n",
    "    adam_opti = keras.optimizers.Adam(lr=l_rate)\n",
    "    model.compile(loss='mse', optimizer=adam_opti,metrics=['accuracy'])\n",
    "\n",
    "    \n",
    "    return model"
   ]
  },
  {
   "cell_type": "code",
   "execution_count": 8,
   "id": "11085923",
   "metadata": {},
   "outputs": [
    {
     "name": "stdout",
     "output_type": "stream",
     "text": [
      "Model: \"INN_network\"\n",
      "_________________________________________________________________\n",
      " Layer (type)                Output Shape              Param #   \n",
      "=================================================================\n",
      " Hidden-1 (Dense)            (None, 16)                32        \n",
      "                                                                 \n",
      " Hidden-2 (Dense)            (None, 64)                1088      \n",
      "                                                                 \n",
      " dropout (Dropout)           (None, 64)                0         \n",
      "                                                                 \n",
      " Hidden-3 (Dense)            (None, 16)                1040      \n",
      "                                                                 \n",
      " Hidden-4 (Dense)            (None, 128)               2176      \n",
      "                                                                 \n",
      " Hidden-5 (Dense)            (None, 16)                2064      \n",
      "                                                                 \n",
      " dropout_1 (Dropout)         (None, 16)                0         \n",
      "                                                                 \n",
      " Hidden-6 (Dense)            (None, 32)                544       \n",
      "                                                                 \n",
      " dropout_2 (Dropout)         (None, 32)                0         \n",
      "                                                                 \n",
      " Hidden-7 (Dense)            (None, 128)               4224      \n",
      "                                                                 \n",
      " Hidden-8 (Dense)            (None, 16)                2064      \n",
      "                                                                 \n",
      " dense (Dense)               (None, 1)                 17        \n",
      "                                                                 \n",
      "=================================================================\n",
      "Total params: 13,249\n",
      "Trainable params: 13,249\n",
      "Non-trainable params: 0\n",
      "_________________________________________________________________\n",
      "Model: \"Tandem_network\"\n",
      "_________________________________________________________________\n",
      " Layer (type)                Output Shape              Param #   \n",
      "=================================================================\n",
      " input_2 (InputLayer)        [(None, 1)]               0         \n",
      "                                                                 \n",
      " INN_network (Sequential)    (None, 1)                 13249     \n",
      "                                                                 \n",
      " FNN_network (Functional)    (None, 1)                 13249     \n",
      "                                                                 \n",
      "=================================================================\n",
      "Total params: 26,498\n",
      "Trainable params: 26,498\n",
      "Non-trainable params: 0\n",
      "_________________________________________________________________\n"
     ]
    }
   ],
   "source": [
    "import warnings\n",
    "warnings.filterwarnings(action='ignore') \n",
    "\n",
    "# set parameters\n",
    "input_dim = np.shape(x_data)[1]        # input dimensions\n",
    "output_dim = np.shape(y_data)[1]\n",
    "input_ = tf.keras.Input(shape=(input_dim,))\n",
    "output_ = tf.keras.Input(shape=(output_dim,))\n",
    "    \n",
    "# dnn hyperparameter 설정\n",
    "hidden_layer = [16, 64, 16, 128, 16, 32, 128, 16]\n",
    "d_o = 0.2\n",
    "epoch = 800\n",
    "l_rate = 0.001\n",
    "\n",
    "# INN 정의\n",
    "inn_run = inn_model(y_trainsc, x_trainsc, hidden_layer, d_o, l_rate)\n",
    "inn_run.summary()\n",
    "\n",
    "# FNN 정의\n",
    "fnn_ = tf.keras.Model(input_, fnn_model(input_), name = \"FNN_network\")\n",
    "\n",
    "# Tandem network 정의\n",
    "Tandem = tf.keras.Model(output_, fnn_(inn_run(output_)), name = \"Tandem_network\")\n",
    "\n",
    "Tandem.summary()"
   ]
  },
  {
   "cell_type": "code",
   "execution_count": 9,
   "id": "9e32aafb",
   "metadata": {},
   "outputs": [
    {
     "data": {
      "text/html": [
       "<div>\n",
       "<style scoped>\n",
       "    .dataframe tbody tr th:only-of-type {\n",
       "        vertical-align: middle;\n",
       "    }\n",
       "\n",
       "    .dataframe tbody tr th {\n",
       "        vertical-align: top;\n",
       "    }\n",
       "\n",
       "    .dataframe thead th {\n",
       "        text-align: right;\n",
       "    }\n",
       "</style>\n",
       "<table border=\"1\" class=\"dataframe\">\n",
       "  <thead>\n",
       "    <tr style=\"text-align: right;\">\n",
       "      <th></th>\n",
       "      <th>Layer Type</th>\n",
       "      <th>Layer Name</th>\n",
       "      <th>Layer Trainable</th>\n",
       "    </tr>\n",
       "  </thead>\n",
       "  <tbody>\n",
       "    <tr>\n",
       "      <th>0</th>\n",
       "      <td>&lt;keras.engine.input_layer.InputLayer object at 0x000001DF8E76CC70&gt;</td>\n",
       "      <td>input_2</td>\n",
       "      <td>True</td>\n",
       "    </tr>\n",
       "    <tr>\n",
       "      <th>1</th>\n",
       "      <td>&lt;keras.engine.sequential.Sequential object at 0x000001DF8E75A4C0&gt;</td>\n",
       "      <td>INN_network</td>\n",
       "      <td>True</td>\n",
       "    </tr>\n",
       "    <tr>\n",
       "      <th>2</th>\n",
       "      <td>&lt;keras.engine.functional.Functional object at 0x000001DF8E803460&gt;</td>\n",
       "      <td>FNN_network</td>\n",
       "      <td>False</td>\n",
       "    </tr>\n",
       "  </tbody>\n",
       "</table>\n",
       "</div>"
      ],
      "text/plain": [
       "                                                           Layer Type  \\\n",
       "0  <keras.engine.input_layer.InputLayer object at 0x000001DF8E76CC70>   \n",
       "1  <keras.engine.sequential.Sequential object at 0x000001DF8E75A4C0>    \n",
       "2  <keras.engine.functional.Functional object at 0x000001DF8E803460>    \n",
       "\n",
       "    Layer Name  Layer Trainable  \n",
       "0  input_2      True             \n",
       "1  INN_network  True             \n",
       "2  FNN_network  False            "
      ]
     },
     "execution_count": 9,
     "metadata": {},
     "output_type": "execute_result"
    }
   ],
   "source": [
    "# Trainable Layer check\n",
    "pd.set_option(\"max_colwidth\", -1)\n",
    "layers = [(layer, layer.name, layer.trainable) for layer in Tandem.layers]\n",
    "pd.DataFrame(layers, columns=[\"Layer Type\", \"Layer Name\", \"Layer Trainable\"])\n",
    "\n",
    "fnn_layer = Tandem.get_layer(\"FNN_network\")\n",
    "fnn_layer.trainable = False\n",
    "\n",
    "# Trainable Layer recheck\n",
    "pd.set_option(\"max_colwidth\", -1)\n",
    "layers = [(layer, layer.name, layer.trainable) for layer in Tandem.layers]\n",
    "pd.DataFrame(layers, columns=[\"Layer Type\", \"Layer Name\", \"Layer Trainable\"])"
   ]
  },
  {
   "cell_type": "code",
   "execution_count": 10,
   "id": "213d2a88",
   "metadata": {},
   "outputs": [],
   "source": [
    "## 모델 학습 그래프 출력\n",
    "\n",
    "def plot_loss(history, title=None):     # Loss Visualization\n",
    "    # summarize history for loss\n",
    "    if not isinstance(history, dict):\n",
    "        history = history.history\n",
    "\n",
    "    plt.plot(history['loss'])           # loss\n",
    "    plt.plot(history['val_loss'])       # validation\n",
    "    if title is not None:\n",
    "        plt.title(title)\n",
    "    plt.ylabel('Loss')\n",
    "    plt.xlabel('Epoch')\n",
    "    plt.legend(['Training data', 'Validation data'], loc=0)\n",
    "    \n",
    "    return plt"
   ]
  },
  {
   "cell_type": "code",
   "execution_count": 28,
   "id": "f1729512",
   "metadata": {},
   "outputs": [],
   "source": [
    "## 성능지표 출력\n",
    "\n",
    "def performance(y_true, y_pred):\n",
    "    _rmse = np.sqrt(mean_squared_error(y_true, y_pred))\n",
    "    _nrmse = (_rmse)/(np.max(y_true)-np.min(y_true))\n",
    "    \n",
    "    corr_matrix = np.corrcoef(y_true[:,0], y_pred[:,0])\n",
    "    corr_xy  = corr_matrix[0,1]\n",
    "    _r2 = corr_xy**2\n",
    "    return _rmse, _nrmse, _r2"
   ]
  },
  {
   "cell_type": "code",
   "execution_count": 29,
   "id": "4cb95046",
   "metadata": {},
   "outputs": [
    {
     "name": "stdout",
     "output_type": "stream",
     "text": [
      "Model: \"Tandem_network\"\n",
      "_________________________________________________________________\n",
      " Layer (type)                Output Shape              Param #   \n",
      "=================================================================\n",
      " input_2 (InputLayer)        [(None, 1)]               0         \n",
      "                                                                 \n",
      " INN_network (Sequential)    (None, 1)                 13249     \n",
      "                                                                 \n",
      " FNN_network (Functional)    (None, 1)                 13249     \n",
      "                                                                 \n",
      "=================================================================\n",
      "Total params: 26,498\n",
      "Trainable params: 13,249\n",
      "Non-trainable params: 13,249\n",
      "_________________________________________________________________\n",
      "2/2 [==============================] - 0s 3ms/step\n",
      "1/1 [==============================] - 0s 150ms/step\n"
     ]
    },
    {
     "data": {
      "image/png": "[encoded data removed]",
      "text/plain": [
       "<Figure size 576x288 with 4 Axes>"
      ]
     },
     "metadata": {
      "needs_background": "light"
     },
     "output_type": "display_data"
    }
   ],
   "source": [
    "# compile model\n",
    "adam_opti = keras.optimizers.Adam(lr=l_rate)\n",
    "Tandem.compile(loss='mse', optimizer=adam_opti,metrics=['mse','accuracy'])\n",
    "    \n",
    "# # callback-checkpoint 생성\n",
    "# ck_path = \"cb_ck\"\n",
    "# cp_callback = tf.keras.callbacks.ModelCheckpoint(filepath = ck_path,\n",
    "#                                                 save_weights_only = True,\n",
    "#                                                 verbose=0)\n",
    "history = Tandem.fit(y_trainsc, y_trainsc,\n",
    "                    batch_size=32,\n",
    "                    epochs=epoch,\n",
    "                    verbose=0,\n",
    "                    validation_data = (y_valsc, y_valsc))\n",
    "#                     callbacks = [cp_callback])\n",
    "Tandem.summary()\n",
    "\n",
    "\n",
    "\n",
    "Tandem.save(\"tandem_model.h5\")\n",
    "\n",
    "y_trainpredsc = Tandem.predict(y_trainsc)\n",
    "y_trainpredsc = y_trainpredsc.reshape(-1,1)\n",
    "y_trainpred = y_scaler.inverse_transform(y_trainpredsc)\n",
    "y_train = y_scaler.inverse_transform(y_trainsc)\n",
    "y_valpredsc = Tandem.predict(y_valsc)\n",
    "y_valpredsc = y_valpredsc.reshape(-1,1)\n",
    "y_valpred = y_scaler.inverse_transform(y_valpredsc)\n",
    "y_val = y_scaler.inverse_transform(y_valsc)\n",
    "\n",
    "train_pfm = performance(y_train, y_trainpred)\n",
    "val_pfm = performance(y_val, y_valpred)\n",
    "\n",
    "each_data_pfm = list(train_pfm)\n",
    "each_data_pfm = np.concatenate((each_data_pfm, list(val_pfm)), axis=0)\n",
    "each_data_pfm = each_data_pfm.reshape(1,-1)\n",
    "\n",
    "#################결과저장##############################\n",
    "data_pfm = list(each_data_pfm)\n",
    "\n",
    "####################plot##########################\n",
    "fig = plt.figure(figsize=(8,4))\n",
    "\n",
    "gs = GridSpec(nrows=2, ncols=2, \n",
    "              width_ratios=[1,1],height_ratios=[1,1])\n",
    "\n",
    "ax0 = fig.add_subplot(gs[0,0])\n",
    "ax3 = fig.add_subplot(gs[1,0])\n",
    "ax1 = fig.add_subplot(gs[0,1])\n",
    "ax2 = fig.add_subplot(gs[1,1])\n",
    "\n",
    "if not isinstance(history, dict):\n",
    "    history = history.history\n",
    "ax0.plot(history['loss'])           # loss\n",
    "ax0.plot(history['val_loss'])       # validation\n",
    "ax0.set_ylabel('Loss')\n",
    "ax0.set_xlabel('Epoch')\n",
    "ax0.legend(['Training data', 'Validation data'], loc=0)\n",
    "\n",
    "if not isinstance(history, dict):\n",
    "    history = history.history\n",
    "ax3.plot(history['mse'])           # loss\n",
    "ax3.plot(history['val_mse'])       # validation\n",
    "ax3.set_ylabel('Loss')\n",
    "ax3.set_xlabel('Epoch')\n",
    "ax3.legend(['Training data', 'Validation data'], loc=0)\n",
    "\n",
    "\n",
    "ax1.plot(y_train, y_train, color = 'dodgerblue', label='ground truth')\n",
    "ax1.scatter(y_train, y_trainpred, color = 'red', label='prediction')\n",
    "\n",
    "ax2.plot(y_val, y_val, color = 'dodgerblue', label='ground truth')\n",
    "ax2.scatter(y_val, y_valpred, color = 'red', label='prediction')\n",
    "\n",
    "plt.show()"
   ]
  },
  {
   "cell_type": "code",
   "execution_count": 30,
   "id": "b6066e09",
   "metadata": {},
   "outputs": [
    {
     "data": {
      "text/html": [
       "<div>\n",
       "<style scoped>\n",
       "    .dataframe tbody tr th:only-of-type {\n",
       "        vertical-align: middle;\n",
       "    }\n",
       "\n",
       "    .dataframe tbody tr th {\n",
       "        vertical-align: top;\n",
       "    }\n",
       "\n",
       "    .dataframe thead th {\n",
       "        text-align: right;\n",
       "    }\n",
       "</style>\n",
       "<table border=\"1\" class=\"dataframe\">\n",
       "  <thead>\n",
       "    <tr style=\"text-align: right;\">\n",
       "      <th></th>\n",
       "      <th>loss</th>\n",
       "      <th>mse</th>\n",
       "      <th>accuracy</th>\n",
       "      <th>val_loss</th>\n",
       "      <th>val_mse</th>\n",
       "      <th>val_accuracy</th>\n",
       "    </tr>\n",
       "  </thead>\n",
       "  <tbody>\n",
       "    <tr>\n",
       "      <th>0</th>\n",
       "      <td>0.004773</td>\n",
       "      <td>0.004773</td>\n",
       "      <td>0.015625</td>\n",
       "      <td>0.002186</td>\n",
       "      <td>0.002186</td>\n",
       "      <td>0.0625</td>\n",
       "    </tr>\n",
       "    <tr>\n",
       "      <th>1</th>\n",
       "      <td>0.004393</td>\n",
       "      <td>0.004393</td>\n",
       "      <td>0.015625</td>\n",
       "      <td>0.003725</td>\n",
       "      <td>0.003725</td>\n",
       "      <td>0.0625</td>\n",
       "    </tr>\n",
       "    <tr>\n",
       "      <th>2</th>\n",
       "      <td>0.004220</td>\n",
       "      <td>0.004220</td>\n",
       "      <td>0.015625</td>\n",
       "      <td>0.002955</td>\n",
       "      <td>0.002955</td>\n",
       "      <td>0.0625</td>\n",
       "    </tr>\n",
       "    <tr>\n",
       "      <th>3</th>\n",
       "      <td>0.003048</td>\n",
       "      <td>0.003048</td>\n",
       "      <td>0.015625</td>\n",
       "      <td>0.002586</td>\n",
       "      <td>0.002586</td>\n",
       "      <td>0.0625</td>\n",
       "    </tr>\n",
       "    <tr>\n",
       "      <th>4</th>\n",
       "      <td>0.003484</td>\n",
       "      <td>0.003484</td>\n",
       "      <td>0.015625</td>\n",
       "      <td>0.002648</td>\n",
       "      <td>0.002648</td>\n",
       "      <td>0.0625</td>\n",
       "    </tr>\n",
       "    <tr>\n",
       "      <th>...</th>\n",
       "      <td>...</td>\n",
       "      <td>...</td>\n",
       "      <td>...</td>\n",
       "      <td>...</td>\n",
       "      <td>...</td>\n",
       "      <td>...</td>\n",
       "    </tr>\n",
       "    <tr>\n",
       "      <th>795</th>\n",
       "      <td>0.002566</td>\n",
       "      <td>0.002566</td>\n",
       "      <td>0.015625</td>\n",
       "      <td>0.002079</td>\n",
       "      <td>0.002079</td>\n",
       "      <td>0.0625</td>\n",
       "    </tr>\n",
       "    <tr>\n",
       "      <th>796</th>\n",
       "      <td>0.002690</td>\n",
       "      <td>0.002690</td>\n",
       "      <td>0.015625</td>\n",
       "      <td>0.002024</td>\n",
       "      <td>0.002024</td>\n",
       "      <td>0.0625</td>\n",
       "    </tr>\n",
       "    <tr>\n",
       "      <th>797</th>\n",
       "      <td>0.002365</td>\n",
       "      <td>0.002365</td>\n",
       "      <td>0.015625</td>\n",
       "      <td>0.002227</td>\n",
       "      <td>0.002227</td>\n",
       "      <td>0.0625</td>\n",
       "    </tr>\n",
       "    <tr>\n",
       "      <th>798</th>\n",
       "      <td>0.003129</td>\n",
       "      <td>0.003129</td>\n",
       "      <td>0.015625</td>\n",
       "      <td>0.002289</td>\n",
       "      <td>0.002289</td>\n",
       "      <td>0.0625</td>\n",
       "    </tr>\n",
       "    <tr>\n",
       "      <th>799</th>\n",
       "      <td>0.002759</td>\n",
       "      <td>0.002759</td>\n",
       "      <td>0.015625</td>\n",
       "      <td>0.002087</td>\n",
       "      <td>0.002087</td>\n",
       "      <td>0.0625</td>\n",
       "    </tr>\n",
       "  </tbody>\n",
       "</table>\n",
       "<p>800 rows × 6 columns</p>\n",
       "</div>"
      ],
      "text/plain": [
       "         loss       mse  accuracy  val_loss   val_mse  val_accuracy\n",
       "0    0.004773  0.004773  0.015625  0.002186  0.002186  0.0625      \n",
       "1    0.004393  0.004393  0.015625  0.003725  0.003725  0.0625      \n",
       "2    0.004220  0.004220  0.015625  0.002955  0.002955  0.0625      \n",
       "3    0.003048  0.003048  0.015625  0.002586  0.002586  0.0625      \n",
       "4    0.003484  0.003484  0.015625  0.002648  0.002648  0.0625      \n",
       "..        ...       ...       ...       ...       ...     ...      \n",
       "795  0.002566  0.002566  0.015625  0.002079  0.002079  0.0625      \n",
       "796  0.002690  0.002690  0.015625  0.002024  0.002024  0.0625      \n",
       "797  0.002365  0.002365  0.015625  0.002227  0.002227  0.0625      \n",
       "798  0.003129  0.003129  0.015625  0.002289  0.002289  0.0625      \n",
       "799  0.002759  0.002759  0.015625  0.002087  0.002087  0.0625      \n",
       "\n",
       "[800 rows x 6 columns]"
      ]
     },
     "execution_count": 30,
     "metadata": {},
     "output_type": "execute_result"
    }
   ],
   "source": [
    "pd.DataFrame(history)"
   ]
  },
  {
   "cell_type": "code",
   "execution_count": 31,
   "id": "78df6a05",
   "metadata": {},
   "outputs": [
    {
     "data": {
      "text/html": [
       "<div>\n",
       "<style scoped>\n",
       "    .dataframe tbody tr th:only-of-type {\n",
       "        vertical-align: middle;\n",
       "    }\n",
       "\n",
       "    .dataframe tbody tr th {\n",
       "        vertical-align: top;\n",
       "    }\n",
       "\n",
       "    .dataframe thead th {\n",
       "        text-align: right;\n",
       "    }\n",
       "</style>\n",
       "<table border=\"1\" class=\"dataframe\">\n",
       "  <thead>\n",
       "    <tr style=\"text-align: right;\">\n",
       "      <th></th>\n",
       "      <th>Layer Type</th>\n",
       "      <th>Layer Name</th>\n",
       "      <th>Layer Trainable</th>\n",
       "    </tr>\n",
       "  </thead>\n",
       "  <tbody>\n",
       "    <tr>\n",
       "      <th>0</th>\n",
       "      <td>&lt;keras.engine.input_layer.InputLayer object at 0x000001DF8ECB0760&gt;</td>\n",
       "      <td>input_2</td>\n",
       "      <td>True</td>\n",
       "    </tr>\n",
       "    <tr>\n",
       "      <th>1</th>\n",
       "      <td>&lt;keras.engine.sequential.Sequential object at 0x000001DF8ECB0040&gt;</td>\n",
       "      <td>INN_network</td>\n",
       "      <td>True</td>\n",
       "    </tr>\n",
       "    <tr>\n",
       "      <th>2</th>\n",
       "      <td>&lt;keras.engine.functional.Functional object at 0x000001DF9312AC10&gt;</td>\n",
       "      <td>FNN_network</td>\n",
       "      <td>True</td>\n",
       "    </tr>\n",
       "  </tbody>\n",
       "</table>\n",
       "</div>"
      ],
      "text/plain": [
       "                                                           Layer Type  \\\n",
       "0  <keras.engine.input_layer.InputLayer object at 0x000001DF8ECB0760>   \n",
       "1  <keras.engine.sequential.Sequential object at 0x000001DF8ECB0040>    \n",
       "2  <keras.engine.functional.Functional object at 0x000001DF9312AC10>    \n",
       "\n",
       "    Layer Name  Layer Trainable  \n",
       "0  input_2      True             \n",
       "1  INN_network  True             \n",
       "2  FNN_network  True             "
      ]
     },
     "execution_count": 31,
     "metadata": {},
     "output_type": "execute_result"
    }
   ],
   "source": [
    "# Trainable Layer check\n",
    "pd.set_option(\"max_colwidth\", -1)\n",
    "layers = [(layer, layer.name, layer.trainable) for layer in Tandem.layers]\n",
    "pd.DataFrame(layers, columns=[\"Layer Type\", \"Layer Name\", \"Layer Trainable\"])"
   ]
  },
  {
   "cell_type": "code",
   "execution_count": 32,
   "id": "790b763d",
   "metadata": {},
   "outputs": [
    {
     "data": {
      "text/html": [
       "<div>\n",
       "<style scoped>\n",
       "    .dataframe tbody tr th:only-of-type {\n",
       "        vertical-align: middle;\n",
       "    }\n",
       "\n",
       "    .dataframe tbody tr th {\n",
       "        vertical-align: top;\n",
       "    }\n",
       "\n",
       "    .dataframe thead th {\n",
       "        text-align: right;\n",
       "    }\n",
       "</style>\n",
       "<table border=\"1\" class=\"dataframe\">\n",
       "  <thead>\n",
       "    <tr style=\"text-align: right;\">\n",
       "      <th></th>\n",
       "      <th>(train) RMSE</th>\n",
       "      <th>(train) nRMSE</th>\n",
       "      <th>(train) R2</th>\n",
       "      <th>(val) RMSE</th>\n",
       "      <th>(val) nRMSE</th>\n",
       "      <th>(val) R2</th>\n",
       "    </tr>\n",
       "  </thead>\n",
       "  <tbody>\n",
       "    <tr>\n",
       "      <th>FNN model</th>\n",
       "      <td>2.671311</td>\n",
       "      <td>0.032378</td>\n",
       "      <td>0.981717</td>\n",
       "      <td>4.042516</td>\n",
       "      <td>0.049052</td>\n",
       "      <td>0.973056</td>\n",
       "    </tr>\n",
       "  </tbody>\n",
       "</table>\n",
       "</div>"
      ],
      "text/plain": [
       "           (train) RMSE  (train) nRMSE  (train) R2  (val) RMSE  (val) nRMSE  \\\n",
       "FNN model  2.671311      0.032378       0.981717    4.042516    0.049052      \n",
       "\n",
       "           (val) R2  \n",
       "FNN model  0.973056  "
      ]
     },
     "execution_count": 32,
     "metadata": {},
     "output_type": "execute_result"
    }
   ],
   "source": [
    "##################performance###########################\n",
    "    \n",
    "colname = [\"(train) RMSE\", \"(train) nRMSE\", \"(train) R2\", \"(val) RMSE\", \"(val) nRMSE\", \"(val) R2\"]\n",
    "pd_pfm = pd.DataFrame(data_pfm, columns = colname, index = [\"FNN model\"])\n",
    "pd_pfm"
   ]
  },
  {
   "cell_type": "markdown",
   "id": "6578e94d",
   "metadata": {},
   "source": [
    "# INN Layer : 최적 해 출력 결과"
   ]
  },
  {
   "cell_type": "code",
   "execution_count": 15,
   "id": "b59624f0",
   "metadata": {},
   "outputs": [
    {
     "name": "stdout",
     "output_type": "stream",
     "text": [
      "Model: \"Tandem_network\"\n",
      "_________________________________________________________________\n",
      " Layer (type)                Output Shape              Param #   \n",
      "=================================================================\n",
      " input_2 (InputLayer)        [(None, 1)]               0         \n",
      "                                                                 \n",
      " INN_network (Sequential)    (None, 1)                 13249     \n",
      "                                                                 \n",
      " FNN_network (Functional)    (None, 1)                 13249     \n",
      "                                                                 \n",
      "=================================================================\n",
      "Total params: 26,498\n",
      "Trainable params: 13,249\n",
      "Non-trainable params: 13,249\n",
      "_________________________________________________________________\n"
     ]
    }
   ],
   "source": [
    "## INN load \n",
    "from keras.models import load_model \n",
    "tandem_name = \"tandem_model.h5\"\n",
    "Tandem = load_model(tandem_name, compile = False)\n",
    "Tandem.summary()"
   ]
  },
  {
   "cell_type": "code",
   "execution_count": 16,
   "id": "4de32df1",
   "metadata": {},
   "outputs": [],
   "source": [
    "## load scalers\n",
    "x_scaler = load(open('./x_minmax_scaler.pkl', 'rb'))\n",
    "y_scaler = load(open('./y_minmax_scaler.pkl', 'rb'))\n",
    "\n",
    "# train data\n",
    "x_train = np.array(pd.read_csv('x_train.csv').iloc[:,1])\n",
    "y_train = np.array(pd.read_csv('y_train.csv').iloc[:,1])\n",
    "\n",
    "# validation data\n",
    "x_val = np.array(pd.read_csv('x_val.csv').iloc[:,1])\n",
    "y_val = np.array(pd.read_csv('y_val.csv').iloc[:,1])\n",
    "\n",
    "# test data\n",
    "x_test = np.array(pd.read_csv('x_test.csv').iloc[:,1])\n",
    "y_test = np.array(pd.read_csv('y_test.csv').iloc[:,1])"
   ]
  },
  {
   "cell_type": "code",
   "execution_count": 17,
   "id": "a9c96491",
   "metadata": {},
   "outputs": [
    {
     "name": "stdout",
     "output_type": "stream",
     "text": [
      "Model: \"INN_network\"\n",
      "_________________________________________________________________\n",
      " Layer (type)                Output Shape              Param #   \n",
      "=================================================================\n",
      " Hidden-1 (Dense)            (None, 16)                32        \n",
      "                                                                 \n",
      " Hidden-2 (Dense)            (None, 64)                1088      \n",
      "                                                                 \n",
      " dropout (Dropout)           (None, 64)                0         \n",
      "                                                                 \n",
      " Hidden-3 (Dense)            (None, 16)                1040      \n",
      "                                                                 \n",
      " Hidden-4 (Dense)            (None, 128)               2176      \n",
      "                                                                 \n",
      " Hidden-5 (Dense)            (None, 16)                2064      \n",
      "                                                                 \n",
      " dropout_1 (Dropout)         (None, 16)                0         \n",
      "                                                                 \n",
      " Hidden-6 (Dense)            (None, 32)                544       \n",
      "                                                                 \n",
      " dropout_2 (Dropout)         (None, 32)                0         \n",
      "                                                                 \n",
      " Hidden-7 (Dense)            (None, 128)               4224      \n",
      "                                                                 \n",
      " Hidden-8 (Dense)            (None, 16)                2064      \n",
      "                                                                 \n",
      " dense (Dense)               (None, 1)                 17        \n",
      "                                                                 \n",
      "=================================================================\n",
      "Total params: 13,249\n",
      "Trainable params: 13,249\n",
      "Non-trainable params: 0\n",
      "_________________________________________________________________\n",
      "2/2 [==============================] - 0s 2ms/step\n",
      "1/1 [==============================] - 0s 92ms/step\n",
      "1/1 [==============================] - 0s 21ms/step\n"
     ]
    },
    {
     "data": {
      "image/png": "[encoded data removed]",
      "text/plain": [
       "<Figure size 576x288 with 3 Axes>"
      ]
     },
     "metadata": {
      "needs_background": "light"
     },
     "output_type": "display_data"
    }
   ],
   "source": [
    "## Extract INN layer\n",
    "inn_layer = Tandem.get_layer(\"INN_network\")\n",
    "inn_layer.summary()\n",
    "\n",
    "## train prediction\n",
    "y_trainsc = y_scaler.transform(y_train.reshape(-1,1))\n",
    "x_trainpredsc = inn_layer.predict(y_trainsc)\n",
    "x_trainpred = x_scaler.inverse_transform(x_trainpredsc)\n",
    "\n",
    "## val prediction\n",
    "y_valsc = y_scaler.transform(y_val.reshape(-1,1))\n",
    "x_valpredsc = inn_layer.predict(y_valsc)\n",
    "x_valpred = x_scaler.inverse_transform(x_valpredsc)\n",
    "\n",
    "## test prediction\n",
    "y_testsc = y_scaler.transform(y_test.reshape(-1,1))\n",
    "x_testpredsc = inn_layer.predict(y_testsc)\n",
    "x_testpred = x_scaler.inverse_transform(x_testpredsc)\n",
    "\n",
    "####################   x gt & prediction plot   ##########################\n",
    "\n",
    "fig = plt.figure(figsize=(8,4))\n",
    "\n",
    "gs = GridSpec(nrows=1, ncols=3, width_ratios=[1,1,1])\n",
    "\n",
    "ax0 = fig.add_subplot(gs[0,0])\n",
    "ax1 = fig.add_subplot(gs[0,1])\n",
    "ax2 = fig.add_subplot(gs[0,2])\n",
    "\n",
    "ax0.plot(x_train, x_train, color = 'dodgerblue', label='ground truth')\n",
    "ax0.scatter(x_train, x_trainpred, color = 'red', label='prediction')\n",
    "\n",
    "ax1.plot(x_val, x_val, color = 'dodgerblue', label='ground truth')\n",
    "ax1.scatter(x_val, x_valpred, color = 'red', label='prediction')\n",
    "\n",
    "ax2.plot(x_test, x_test, color = 'dodgerblue', label='ground truth')\n",
    "ax2.scatter(x_test, x_testpred, color = 'red', label='prediction')\n",
    "\n",
    "plt.show()"
   ]
  },
  {
   "cell_type": "code",
   "execution_count": 18,
   "id": "bcd29877",
   "metadata": {},
   "outputs": [
    {
     "name": "stdout",
     "output_type": "stream",
     "text": [
      "WARNING:tensorflow:5 out of the last 8 calls to <function Model.make_predict_function.<locals>.predict_function at 0x000001DF93327790> triggered tf.function retracing. Tracing is expensive and the excessive number of tracings could be due to (1) creating @tf.function repeatedly in a loop, (2) passing tensors with different shapes, (3) passing Python objects instead of tensors. For (1), please define your @tf.function outside of the loop. For (2), @tf.function has reduce_retracing=True option that can avoid unnecessary retracing. For (3), please refer to https://www.tensorflow.org/guide/function#controlling_retracing and https://www.tensorflow.org/api_docs/python/tf/function for  more details.\n",
      "2/2 [==============================] - 0s 2ms/step\n"
     ]
    },
    {
     "data": {
      "image/png": "[encoded data removed]",
      "text/plain": [
       "<Figure size 432x288 with 1 Axes>"
      ]
     },
     "metadata": {
      "needs_background": "light"
     },
     "output_type": "display_data"
    }
   ],
   "source": [
    "## comparison tandem with fnn>inn for train dataset\n",
    "\n",
    "fnn_layer = Tandem.get_layer(\"FNN_network\")\n",
    "y_trainpredsc = fnn_layer.predict(x_trainpredsc)\n",
    "y_trainpred = y_scaler.inverse_transform(y_trainpredsc)\n",
    "plt.plot(y_train, y_train, color = 'dodgerblue', label='ground truth')\n",
    "plt.scatter(y_train, y_trainpred, color = 'red', label='prediction')\n",
    "plt.show()"
   ]
  },
  {
   "cell_type": "code",
   "execution_count": 19,
   "id": "c6c4f7cc",
   "metadata": {},
   "outputs": [
    {
     "name": "stdout",
     "output_type": "stream",
     "text": [
      "WARNING:tensorflow:6 out of the last 10 calls to <function Model.make_predict_function.<locals>.predict_function at 0x000001DF93327790> triggered tf.function retracing. Tracing is expensive and the excessive number of tracings could be due to (1) creating @tf.function repeatedly in a loop, (2) passing tensors with different shapes, (3) passing Python objects instead of tensors. For (1), please define your @tf.function outside of the loop. For (2), @tf.function has reduce_retracing=True option that can avoid unnecessary retracing. For (3), please refer to https://www.tensorflow.org/guide/function#controlling_retracing and https://www.tensorflow.org/api_docs/python/tf/function for  more details.\n",
      "1/1 [==============================] - 0s 94ms/step\n"
     ]
    },
    {
     "data": {
      "image/png": "[encoded data removed]",
      "text/plain": [
       "<Figure size 432x288 with 1 Axes>"
      ]
     },
     "metadata": {
      "needs_background": "light"
     },
     "output_type": "display_data"
    }
   ],
   "source": [
    "## comparison tandem with fnn>inn for val dataset\n",
    "\n",
    "fnn_layer = Tandem.get_layer(\"FNN_network\")\n",
    "y_valpredsc = fnn_layer.predict(x_valpredsc)\n",
    "y_valpred = y_scaler.inverse_transform(y_valpredsc)\n",
    "plt.plot(y_val, y_val, color = 'dodgerblue', label='ground truth')\n",
    "plt.scatter(y_val, y_valpred, color = 'red', label='prediction')\n",
    "plt.show()"
   ]
  },
  {
   "cell_type": "code",
   "execution_count": 20,
   "id": "48beb92e",
   "metadata": {},
   "outputs": [
    {
     "name": "stdout",
     "output_type": "stream",
     "text": [
      "1/1 [==============================] - 0s 20ms/step\n"
     ]
    },
    {
     "data": {
      "image/png": "[encoded data removed]",
      "text/plain": [
       "<Figure size 432x288 with 1 Axes>"
      ]
     },
     "metadata": {
      "needs_background": "light"
     },
     "output_type": "display_data"
    }
   ],
   "source": [
    "## comparison tandem with fnn>inn for test dataset\n",
    "\n",
    "fnn_layer = Tandem.get_layer(\"FNN_network\")\n",
    "y_testpredsc = fnn_layer.predict(x_testpredsc)\n",
    "y_testpred = y_scaler.inverse_transform(y_testpredsc)\n",
    "plt.plot(y_test, y_test, color = 'dodgerblue', label='ground truth')\n",
    "plt.scatter(y_test, y_testpred, color = 'red', label='prediction')\n",
    "plt.show()"
   ]
  },
  {
   "cell_type": "code",
   "execution_count": null,
   "id": "88aa2821",
   "metadata": {},
   "outputs": [],
   "source": []
  },
  {
   "cell_type": "code",
   "execution_count": null,
   "id": "f4ba1c67",
   "metadata": {},
   "outputs": [],
   "source": [
    " "
   ]
  }
 ],
 "metadata": {
  "kernelspec": {
   "display_name": "Python 3 (ipykernel)",
   "language": "python",
   "name": "python3"
  },
  "language_info": {
   "codemirror_mode": {
    "name": "ipython",
    "version": 3
   },
   "file_extension": ".py",
   "mimetype": "text/x-python",
   "name": "python",
   "nbconvert_exporter": "python",
   "pygments_lexer": "ipython3",
   "version": "3.9.12"
  }
 },
 "nbformat": 4,
 "nbformat_minor": 5
}
