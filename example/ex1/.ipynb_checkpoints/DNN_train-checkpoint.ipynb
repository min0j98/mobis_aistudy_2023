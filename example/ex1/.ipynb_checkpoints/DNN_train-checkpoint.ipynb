{
 "cells": [
  {
   "cell_type": "markdown",
   "id": "b8d3bfab",
   "metadata": {},
   "source": [
    "# Load libraries"
   ]
  },
  {
   "cell_type": "code",
   "execution_count": 1,
   "id": "558107c1",
   "metadata": {},
   "outputs": [],
   "source": [
    "## load libraries\n",
    "\n",
    "from pyDOE import *\n",
    "from scipy.stats.distributions import norm\n",
    "from sklearn.linear_model import LinearRegression\n",
    "from sklearn.preprocessing import MinMaxScaler\n",
    "from sklearn.model_selection import train_test_split\n",
    "from sklearn.metrics import mean_squared_error\n",
    "from sklearn.model_selection import KFold\n",
    "from tensorflow import keras\n",
    "from pickle import dump, load\n",
    "from matplotlib.gridspec import GridSpec\n",
    "import tensorflow as tf\n",
    "import pandas as pd\n",
    "import matplotlib.pyplot as plt"
   ]
  },
  {
   "cell_type": "markdown",
   "id": "f5678d97",
   "metadata": {},
   "source": [
    "# Load dataset"
   ]
  },
  {
   "cell_type": "code",
   "execution_count": 2,
   "id": "3a8cbd73",
   "metadata": {},
   "outputs": [
    {
     "name": "stdout",
     "output_type": "stream",
     "text": [
      "data shape(x, y):  (100, 1) (100, 1)\n"
     ]
    }
   ],
   "source": [
    "## load train dataset\n",
    "xy_pd = pd.read_csv('dataset.csv')\n",
    "x_data = xy_pd.iloc[:,1:-1]\n",
    "y_data = np.array(xy_pd.iloc[:,-1]).reshape(-1,1)\n",
    "\n",
    "print(\"data shape(x, y): \", np.shape(x_data), np.shape(y_data))"
   ]
  },
  {
   "cell_type": "markdown",
   "id": "1d7e1ce7",
   "metadata": {},
   "source": [
    "\n",
    "\n",
    "# Dataset preprocessing"
   ]
  },
  {
   "cell_type": "code",
   "execution_count": 3,
   "id": "14b07b4e",
   "metadata": {},
   "outputs": [],
   "source": [
    "x_scaler = MinMaxScaler()\n",
    "y_scaler = MinMaxScaler()\n",
    "\n",
    "x_sc = x_scaler.fit_transform(x_data)\n",
    "y_sc = y_scaler.fit_transform(y_data)\n",
    "\n",
    "dump(x_scaler, open('./x_minmax_scaler.pkl', 'wb'))\n",
    "dump(y_scaler, open('./y_minmax_scaler.pkl', 'wb'))"
   ]
  },
  {
   "cell_type": "code",
   "execution_count": 4,
   "id": "20208dc5",
   "metadata": {},
   "outputs": [
    {
     "data": {
      "image/png": "[encoded data removed]",
      "text/plain": [
       "<Figure size 432x288 with 1 Axes>"
      ]
     },
     "metadata": {
      "needs_background": "light"
     },
     "output_type": "display_data"
    }
   ],
   "source": [
    "## test data split\n",
    "x_alltrainsc, x_testsc, y_alltrainsc, y_testsc = train_test_split(x_sc, \n",
    "                                                            y_sc, \n",
    "                                                            test_size=0.2, \n",
    "                                                            shuffle=True)\n",
    "\n",
    "plt.hist(y_sc)\n",
    "plt.hist(y_testsc)\n",
    "plt.show()"
   ]
  },
  {
   "cell_type": "code",
   "execution_count": 5,
   "id": "eeadfafe",
   "metadata": {},
   "outputs": [
    {
     "data": {
      "image/png": "[encoded data removed]",
      "text/plain": [
       "<Figure size 432x288 with 1 Axes>"
      ]
     },
     "metadata": {
      "needs_background": "light"
     },
     "output_type": "display_data"
    }
   ],
   "source": [
    "## validation data split\n",
    "x_trainsc, x_valsc, y_trainsc, y_valsc = train_test_split(x_alltrainsc, \n",
    "                                                          y_alltrainsc, \n",
    "                                                          test_size=0.2, \n",
    "                                                          shuffle=True)\n",
    "\n",
    "plt.hist(y_alltrainsc)\n",
    "plt.hist(y_valsc)\n",
    "plt.show()"
   ]
  },
  {
   "cell_type": "code",
   "execution_count": 6,
   "id": "d06acd1d",
   "metadata": {},
   "outputs": [],
   "source": [
    "## splitted train data save\n",
    "x_train = x_scaler.inverse_transform(x_trainsc)\n",
    "y_train = y_scaler.inverse_transform(y_trainsc)\n",
    "x_trainpd = pd.DataFrame(x_train, columns = ['x_train'])\n",
    "y_trainpd = pd.DataFrame(y_train, columns = ['y_train'])\n",
    "x_trainpd.to_csv('x_train.csv')\n",
    "y_trainpd.to_csv('y_train.csv')"
   ]
  },
  {
   "cell_type": "code",
   "execution_count": 7,
   "id": "49e3f892",
   "metadata": {},
   "outputs": [],
   "source": [
    "## splitted validation data save\n",
    "x_val = x_scaler.inverse_transform(x_valsc)\n",
    "y_val = y_scaler.inverse_transform(y_valsc)\n",
    "x_valpd = pd.DataFrame(x_val, columns = ['x_val'])\n",
    "y_valpd = pd.DataFrame(y_val, columns = ['y_val'])\n",
    "x_valpd.to_csv('x_val.csv')\n",
    "y_valpd.to_csv('y_val.csv')"
   ]
  },
  {
   "cell_type": "code",
   "execution_count": 8,
   "id": "a719fc19",
   "metadata": {},
   "outputs": [],
   "source": [
    "## splitted test data save\n",
    "x_test = x_scaler.inverse_transform(x_testsc)\n",
    "y_test = y_scaler.inverse_transform(y_testsc)\n",
    "x_testpd = pd.DataFrame(x_test, columns = ['x_test'])\n",
    "y_testpd = pd.DataFrame(y_test, columns = ['y_test'])\n",
    "x_testpd.to_csv('x_test.csv')\n",
    "y_testpd.to_csv('y_test.csv')"
   ]
  },
  {
   "cell_type": "markdown",
   "id": "786c2097",
   "metadata": {},
   "source": [
    "\n",
    "# KFOLD-based training"
   ]
  },
  {
   "cell_type": "code",
   "execution_count": 9,
   "id": "e4d9eb60",
   "metadata": {},
   "outputs": [],
   "source": [
    "## 성능지표 출력\n",
    "\n",
    "def performance(y_true, y_pred):\n",
    "    _rmse = np.sqrt(mean_squared_error(y_true, y_pred))\n",
    "    _nrmse = (_rmse)/(np.max(y_train)-np.min(y_train))\n",
    "    \n",
    "    corr_matrix = np.corrcoef(y_true[:,0], y_pred[:,0])\n",
    "    corr_xy  = corr_matrix[0,1]\n",
    "    _r2 = corr_xy**2\n",
    "    return _rmse, _nrmse, _r2"
   ]
  },
  {
   "cell_type": "code",
   "execution_count": 10,
   "id": "25d0521e",
   "metadata": {},
   "outputs": [],
   "source": [
    "## DNN 아키텍처 설계\n",
    "\n",
    "def dnn_model(x, y, hidden_layers, d_o, l_rate):\n",
    "    \n",
    "    # set parameters\n",
    "    input_dim = np.shape(x)[1]        # input dimensions\n",
    "    output_dim = np.shape(y)[1]\n",
    "    hidden_layers = hidden_layers    # hidden layer dimensions\n",
    "    d_o = d_o                      # dropout확률\n",
    "    \n",
    "    # Initialize model\n",
    "    model = keras.Sequential()\n",
    "    # hidden layer-1\n",
    "    model.add(keras.layers.Dense(hidden_layers[0], activation='relu', input_shape=(input_dim, ), name='Hidden-1'))\n",
    "    # hidden layer-2\n",
    "    model.add(keras.layers.Dense(hidden_layers[1], activation='elu', name='Hidden-2'))\n",
    "    model.add(keras.layers.Dropout(d_o))\n",
    "    # hidden layer-3\n",
    "    model.add(keras.layers.Dense(hidden_layers[2], activation='elu', name='Hidden-3'))\n",
    "#     model.add(keras.layers.Dropout(d_o))\n",
    "    # hidden layer-4\n",
    "    model.add(keras.layers.Dense(hidden_layers[3], activation='relu', name='Hidden-4'))\n",
    "    # hidden layer-5\n",
    "    model.add(keras.layers.Dense(hidden_layers[4], activation='elu', name='Hidden-5'))\n",
    "    model.add(keras.layers.Dropout(d_o))\n",
    "\n",
    "    # hidden layer-6\n",
    "    model.add(keras.layers.Dense(hidden_layers[5], activation='elu', name='Hidden-6'))\n",
    "    model.add(keras.layers.Dropout(d_o))\n",
    "    # hidden layer-7\n",
    "    model.add(keras.layers.Dense(hidden_layers[6], activation='elu', name='Hidden-7'))\n",
    "    # hidden layer-8\n",
    "    model.add(keras.layers.Dense(hidden_layers[7], activation='elu', name='Hidden-8'))\n",
    "    # 출력층\n",
    "    model.add(keras.layers.Dense(output_dim))\n",
    "    \n",
    "    # compile model\n",
    "    adam_opti = keras.optimizers.Adam(lr=l_rate)\n",
    "    model.compile(loss='mse', optimizer=adam_opti,metrics=['accuracy'])\n",
    "\n",
    "    \n",
    "    return model"
   ]
  },
  {
   "cell_type": "code",
   "execution_count": 11,
   "id": "5b8d01a6",
   "metadata": {},
   "outputs": [],
   "source": [
    "## 모델 학습 그래프 출력\n",
    "\n",
    "def plot_loss(history, title=None):     # Loss Visualization\n",
    "    # summarize history for loss\n",
    "    if not isinstance(history, dict):\n",
    "        history = history.history\n",
    "\n",
    "    plt.plot(history['loss'])           # loss\n",
    "    plt.plot(history['val_loss'])       # validation\n",
    "    if title is not None:\n",
    "        plt.title(title)\n",
    "    plt.ylabel('Loss')\n",
    "    plt.xlabel('Epoch')\n",
    "    plt.legend(['Training data', 'Validation data'], loc=0)\n",
    "    \n",
    "    return plt"
   ]
  },
  {
   "cell_type": "code",
   "execution_count": 12,
   "id": "222ce9ac",
   "metadata": {},
   "outputs": [
    {
     "name": "stdout",
     "output_type": "stream",
     "text": [
      "Model: \"sequential\"\n",
      "_________________________________________________________________\n",
      " Layer (type)                Output Shape              Param #   \n",
      "=================================================================\n",
      " Hidden-1 (Dense)            (None, 16)                32        \n",
      "                                                                 \n",
      " Hidden-2 (Dense)            (None, 128)               2176      \n",
      "                                                                 \n",
      " dropout (Dropout)           (None, 128)               0         \n",
      "                                                                 \n",
      " Hidden-3 (Dense)            (None, 32)                4128      \n",
      "                                                                 \n",
      " Hidden-4 (Dense)            (None, 16)                528       \n",
      "                                                                 \n",
      " Hidden-5 (Dense)            (None, 128)               2176      \n",
      "                                                                 \n",
      " dropout_1 (Dropout)         (None, 128)               0         \n",
      "                                                                 \n",
      " Hidden-6 (Dense)            (None, 16)                2064      \n",
      "                                                                 \n",
      " dropout_2 (Dropout)         (None, 16)                0         \n",
      "                                                                 \n",
      " Hidden-7 (Dense)            (None, 64)                1088      \n",
      "                                                                 \n",
      " Hidden-8 (Dense)            (None, 16)                1040      \n",
      "                                                                 \n",
      " dense (Dense)               (None, 1)                 17        \n",
      "                                                                 \n",
      "=================================================================\n",
      "Total params: 13,249\n",
      "Trainable params: 13,249\n",
      "Non-trainable params: 0\n",
      "_________________________________________________________________\n",
      "2/2 [==============================] - 0s 996us/step\n",
      "1/1 [==============================] - 0s 90ms/step\n"
     ]
    },
    {
     "data": {
      "image/png": "[encoded data removed]",
      "text/plain": [
       "<Figure size 576x288 with 3 Axes>"
      ]
     },
     "metadata": {
      "needs_background": "light"
     },
     "output_type": "display_data"
    }
   ],
   "source": [
    "import warnings\n",
    "warnings.filterwarnings(action='ignore') \n",
    "\n",
    "knum = 5\n",
    "kf = KFold(n_splits = knum, shuffle = True)\n",
    "\n",
    "# dnn hyperparameter 설정\n",
    "hidden_layer = [16, 128, 32, 16, 128, 16, 64, 16]\n",
    "d_o = 0.2\n",
    "epoch = 800\n",
    "l_rate = 0.001\n",
    "\n",
    "x_scaler = load(open('./x_minmax_scaler.pkl', 'rb'))\n",
    "y_scaler = load(open('./y_minmax_scaler.pkl', 'rb'))\n",
    "\n",
    "## Train RF architecture\n",
    "\n",
    "dnn_run = dnn_model(x_trainsc, y_trainsc, hidden_layer, d_o, l_rate)\n",
    "\n",
    "history = dnn_run.fit(x_trainsc, y_trainsc, \n",
    "                      batch_size=32,\n",
    "                      epochs = epoch, \n",
    "                      verbose=0,\n",
    "                      validation_data = (x_valsc, y_valsc))\n",
    "dnn_run.summary()\n",
    "dnn_run.save('fnn_model.h5')\n",
    "y_trainpredsc = dnn_run.predict(x_trainsc)\n",
    "y_trainpredsc = y_trainpredsc.reshape(-1,1)\n",
    "y_trainpred = y_scaler.inverse_transform(y_trainpredsc)\n",
    "y_train = y_scaler.inverse_transform(y_trainsc)\n",
    "y_valpredsc = dnn_run.predict(x_valsc)\n",
    "y_valpredsc = y_valpredsc.reshape(-1,1)\n",
    "y_valpred = y_scaler.inverse_transform(y_valpredsc)\n",
    "y_val = y_scaler.inverse_transform(y_valsc)\n",
    "\n",
    "train_pfm = performance(y_train, y_trainpred)\n",
    "val_pfm = performance(y_val, y_valpred)\n",
    "\n",
    "each_data_pfm = list(train_pfm)\n",
    "each_data_pfm = np.concatenate((each_data_pfm, list(val_pfm)), axis=0)\n",
    "each_data_pfm = each_data_pfm.reshape(1,-1)\n",
    "\n",
    "data_pfm = list(each_data_pfm)\n",
    "\n",
    "####################plot##########################\n",
    "fig = plt.figure(figsize=(8,4))\n",
    "\n",
    "gs = GridSpec(nrows=2, ncols=2, width_ratios=[1,1],height_ratios=[1,1])\n",
    "\n",
    "ax0 = fig.add_subplot(gs[:,0])\n",
    "ax1 = fig.add_subplot(gs[0,1])\n",
    "ax2 = fig.add_subplot(gs[1,1])\n",
    "\n",
    "if not isinstance(history, dict):\n",
    "    history = history.history\n",
    "ax0.plot(history['loss'])           # loss\n",
    "ax0.plot(history['val_loss'])       # validation\n",
    "ax0.set_ylabel('Loss')\n",
    "ax0.set_xlabel('Epoch')\n",
    "ax0.legend(['Training data', 'Validation data'], loc=0)\n",
    "\n",
    "\n",
    "ax1.plot(y_train, y_train, color = 'dodgerblue', label='ground truth')\n",
    "ax1.scatter(y_train, y_trainpred, color = 'red', label='prediction')\n",
    "\n",
    "ax2.plot(y_val, y_val, color = 'dodgerblue', label='ground truth')\n",
    "ax2.scatter(y_val, y_valpred, color = 'red', label='prediction')\n",
    "\n",
    "plt.show()"
   ]
  },
  {
   "cell_type": "code",
   "execution_count": 13,
   "id": "35717015",
   "metadata": {},
   "outputs": [
    {
     "data": {
      "text/html": [
       "<div>\n",
       "<style scoped>\n",
       "    .dataframe tbody tr th:only-of-type {\n",
       "        vertical-align: middle;\n",
       "    }\n",
       "\n",
       "    .dataframe tbody tr th {\n",
       "        vertical-align: top;\n",
       "    }\n",
       "\n",
       "    .dataframe thead th {\n",
       "        text-align: right;\n",
       "    }\n",
       "</style>\n",
       "<table border=\"1\" class=\"dataframe\">\n",
       "  <thead>\n",
       "    <tr style=\"text-align: right;\">\n",
       "      <th></th>\n",
       "      <th>(train) RMSE</th>\n",
       "      <th>(train) nRMSE</th>\n",
       "      <th>(train) R2</th>\n",
       "      <th>(val) RMSE</th>\n",
       "      <th>(val) nRMSE</th>\n",
       "      <th>(val) R2</th>\n",
       "    </tr>\n",
       "  </thead>\n",
       "  <tbody>\n",
       "    <tr>\n",
       "      <th>FNN model</th>\n",
       "      <td>1.860596</td>\n",
       "      <td>0.022551</td>\n",
       "      <td>0.99179</td>\n",
       "      <td>2.79007</td>\n",
       "      <td>0.033817</td>\n",
       "      <td>0.986491</td>\n",
       "    </tr>\n",
       "  </tbody>\n",
       "</table>\n",
       "</div>"
      ],
      "text/plain": [
       "           (train) RMSE  (train) nRMSE  (train) R2  (val) RMSE  (val) nRMSE  \\\n",
       "FNN model      1.860596       0.022551     0.99179     2.79007     0.033817   \n",
       "\n",
       "           (val) R2  \n",
       "FNN model  0.986491  "
      ]
     },
     "execution_count": 13,
     "metadata": {},
     "output_type": "execute_result"
    }
   ],
   "source": [
    "##################performance###########################\n",
    "    \n",
    "colname = [\"(train) RMSE\", \"(train) nRMSE\", \"(train) R2\", \"(val) RMSE\", \"(val) nRMSE\", \"(val) R2\"]\n",
    "pd_pfm = pd.DataFrame(data_pfm, columns = colname, index = [\"FNN model\"])\n",
    "pd_pfm"
   ]
  },
  {
   "cell_type": "markdown",
   "id": "99fb56a2",
   "metadata": {},
   "source": [
    "# Evaluation with Test data"
   ]
  },
  {
   "cell_type": "code",
   "execution_count": 14,
   "id": "cb64d88e",
   "metadata": {},
   "outputs": [],
   "source": [
    "x_test = np.array(pd.read_csv('x_test.csv').iloc[:,1]).reshape(-1,1)\n",
    "y_test = np.array(pd.read_csv('y_test.csv').iloc[:,1]).reshape(-1,1)\n",
    "\n",
    "x_scaler = load(open('./x_minmax_scaler.pkl', 'rb'))\n",
    "y_scaler = load(open('./y_minmax_scaler.pkl', 'rb'))\n",
    "x_testsc = x_scaler.transform(x_test)\n",
    "y_testsc = y_scaler.transform(y_test)"
   ]
  },
  {
   "cell_type": "code",
   "execution_count": 15,
   "id": "6ec6e57f",
   "metadata": {},
   "outputs": [
    {
     "name": "stdout",
     "output_type": "stream",
     "text": [
      "1/1 [==============================] - 0s 92ms/step\n"
     ]
    }
   ],
   "source": [
    "from keras.models import load_model \n",
    "\n",
    "fnn_model= load_model('fnn_model.h5')\n",
    "y_predtestsc = fnn_model.predict(x_testsc)\n",
    "\n",
    "y_predtest = y_scaler.inverse_transform(np.array(y_predtestsc).reshape(-1,1))"
   ]
  },
  {
   "cell_type": "code",
   "execution_count": 17,
   "id": "94afb300",
   "metadata": {},
   "outputs": [
    {
     "name": "stdout",
     "output_type": "stream",
     "text": [
      "(test) RMSE:  2.3379643342845458\n",
      "(test) nRMSE:  0.028337407126661295\n",
      "(test) R2:  0.9828934892049895\n"
     ]
    },
    {
     "data": {
      "text/plain": [
       "<matplotlib.collections.PathCollection at 0x259394a2880>"
      ]
     },
     "execution_count": 17,
     "metadata": {},
     "output_type": "execute_result"
    },
    {
     "data": {
      "image/png": "[encoded data removed]",
      "text/plain": [
       "<Figure size 432x288 with 1 Axes>"
      ]
     },
     "metadata": {
      "needs_background": "light"
     },
     "output_type": "display_data"
    }
   ],
   "source": [
    "#####결과 출력###########\n",
    "test_pfm = performance(y_test,y_predtest)\n",
    "print(\"(test) RMSE: \", test_pfm[0])\n",
    "print(\"(test) nRMSE: \", test_pfm[1])\n",
    "print(\"(test) R2: \", test_pfm[2])\n",
    "\n",
    "####################plot##########################\n",
    "\n",
    "plt.plot(y_test, y_test, color = 'dodgerblue', label='ground truth')\n",
    "plt.scatter(y_test, y_predtest, color = 'red', label='prediction')\n"
   ]
  }
 ],
 "metadata": {
  "kernelspec": {
   "display_name": "Python 3 (ipykernel)",
   "language": "python",
   "name": "python3"
  },
  "language_info": {
   "codemirror_mode": {
    "name": "ipython",
    "version": 3
   },
   "file_extension": ".py",
   "mimetype": "text/x-python",
   "name": "python",
   "nbconvert_exporter": "python",
   "pygments_lexer": "ipython3",
   "version": "3.9.12"
  }
 },
 "nbformat": 4,
 "nbformat_minor": 5
}
